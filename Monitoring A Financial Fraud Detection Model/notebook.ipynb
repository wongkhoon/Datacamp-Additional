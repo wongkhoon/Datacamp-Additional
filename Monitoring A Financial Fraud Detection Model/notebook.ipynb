{
 "cells": [
  {
   "attachments": {},
   "cell_type": "markdown",
   "id": "35d4e17b-eeb6-40dd-a140-7b949390e115",
   "metadata": {
    "collapsed": false,
    "jupyter": {
     "outputs_hidden": false,
     "source_hidden": false
    },
    "tags": []
   },
   "source": [
    "![Fraud detection image](cover_image.jpg)\n",
    "\n",
    "🏦 Banks are battling frauds with machine learning models, but changing data patterns can weaken these defenses. London's Poundbank needs your help to figure out why their fraud detection models aren't as accurate anymore.\n",
    "\n",
    "Poundbank recommends the `nannyml` library for monitoring machine learning models, which is also their tool of choice.\n",
    "\n",
    "## The data\n",
    "\n",
    "They have provided you with a reference(test data) and analysis set(production data). A summary and preview are provided below.\n",
    "\n",
    "## reference.csv and analysis.csv\n",
    "\n",
    "| Column     | Description              |\n",
    "|------------|--------------------------|\n",
    "| `'timestamp'` | Date of the transaction. |\n",
    "| `'time_since_login_min'` | Time since the user logged in to the app. |\n",
    "| `'transaction_amount'` | The amount of Pounds(£) that users sent to another account. |\n",
    "| `'transaction_type'` | Transaction type: <ul><li>`CASH-OUT` - Withdrawing money from an account.</li><li>`PAYMENT` - Transaction where a payment is made to a third party.</li><li>`CASH-IN` - This is the opposite of a cash-out. It involves depositing money into an account.</li><li>`TRANSFER` - Transaction which involves moving funds from one account to another.</li> |\n",
    "| `'is_first_transaction'` | A binary indicator denoting if the transaction is the user's first (1 for the first transaction, 0 otherwise). |\n",
    "| `'user_tenure_months'` | The duration in months since the user's account was created or since they became a member. |\n",
    "| `'is_fraud'` | A binary label indicating whether the transaction is fraudulent (1 for fraud, 0 otherwise). |\n",
    "| `'predicted_fraud_proba'` | The probability assigned by a detection model indicates the likelihood of a fraudulent transaction. |\n",
    "| `'predicted_fraud'` |  The predicted classification label is calculated based on predicted fraud probability by the detection model (1 for predicted fraud, 0 otherwise). |"
   ]
  },
  {
   "cell_type": "markdown",
   "id": "8c0f06a3-74f2-416f-8561-f946433909de",
   "metadata": {},
   "source": [
    "# Project Instructions\n",
    "\n",
    "Use the `reference.csv` and `analysis.csv` datasets to monitor a fraud detection model and address the following questions:\n",
    "\n",
    "- Identify the months in which the estimated(expected) and realized(actual) accuracy of the model triggers alerts. Put these months in a list named `months_with_performance_alerts`, using lowercase and separating the month and year with an underscore. For example: `months_with_performance_alerts = [\"january_2018\", \"march_2018\"]`.\n",
    "\n",
    "- Determine the feature that shows the most drift between the reference and analysis sets, thereby impacting the drop in realized accuracy the most. Historically, Poundbank's data science team used the Kolmogorov-Smirnov and Chi-square methods to detect this drift. Store the name of this feature in a variable named `highest_correlation_feature`.\n",
    "\n",
    "- Look for instances where the monthly average transaction amount differs from the usual, causing an alert. Save this amount in a variable named `alert_avg_transaction_amount`, ensuring it has a minimum of one decimal place in the results.\n",
    "\n",
    "Extra task for you to try (this won't be tested):\n",
    "\n",
    "- Use the univariate drift detection method to figure out why the accuracy dropped. Think of a possible explanation. At the end of the project, we'll give you our analysis. Remember, there are no wrong or right answers here."
   ]
  },
  {
   "cell_type": "markdown",
   "id": "74f4e85c-68cc-451f-a1b6-649be883fef9",
   "metadata": {},
   "source": [
    "# How to approach the project\n",
    "1. Identifying Months with Alerts in Estimated and Realized Accuracy.\n",
    "2. Identifying the Alerting Feature Most Correlated with Performance.\n",
    "3. Finding the Alert-Triggering Monthly Average Transaction Amount\n",
    "\n",
    "## Steps to complete\n",
    "### 1. Identifying Months with Alerts in Estimated and Realized Accuracy.\n",
    "You can estimate the model's performance using `nannyml`'s CBPE estimator and calculate the realized accuracy using a performance calculator. Then, use the comparison plot to identify when both indicate alerts.\n",
    "\n",
    "#### Get the estimated accuracy\n",
    "- Initialize the `nml.CBPE` estimator by defining `timestamp_column_name`, setting `metrics` to `[\"accuracy\"]`, `y_true` to `\"is_fraud\"`, `y_pred` to `\"predicted_fraud\"`, `y_pred_proba` to `\"predicted_fraud_proba\"`, `problem_type` to `\"classification_binary\"`, and `chunk_period` to `\"m\"`, as we are identifying the month with the performance alert.\n",
    "- Use the `.fit()` method to input the reference data\n",
    "- Call the `.estimate()` method on the analysis set.\n",
    "- Save the results to the `est_results` variable.\n",
    "\n",
    "#### Calculate the realized accuracy\n",
    "- Initialize the `nml.PerformanceCalculator()` by defining `timestamp_column_name`, setting `metrics` to `[\"accuracy\"]`, `y_true` to `\"is_fraud\"`, `y_pred` to `\"predicted_fraud\"`, `y_pred_proba` to `\"predicted_fraud_proba\"`,` problem_type` to `\"classification_binary\"`, and `chunk_period` to `\"m\"`.\n",
    "- Pass the reference data using the `.fit()` method.\n",
    "- Call the `.calculate()` method on the analysis set.\n",
    "- Save the results to the `calc_results` variable.\n",
    "\n",
    "#### Compare the results and find the months with alerts\n",
    "- Compare results from `CBPE` and `PerformanceCalculator` by chaining the `.compare().show()` methods.\n",
    "- After analyzing the plot, create a list called `months_with_performance_alerts` and add the relevant months to it.\n",
    "\n",
    "### 2. Identifying the Alerting Feature Most Correlated with Performance.\n",
    "You will need to calculate the univariate drift results, and use the correlation ranker to find which feature is correlating the most.\n",
    "\n",
    "#### Calculate the univariate drift results\n",
    "- Define the variable `features` to include these feature names: `[\"transaction_amount\", \"transaction_type\", \"user_tenure_months\", \"time_since_login_min\", \"is_first_transaction\"]`.\n",
    "- Initialize `nml.UnivariateDriftCalculator()` and specify `timestamp_column_name`, `features`, chunk_period set to `\"m\"`, `\"kolmogorov_smirnov\"` as the continuous method and `\"chi-2\"` for categorical analysis.\n",
    "- Use the `.fit()` method with your reference data\n",
    "- Call the `.calculate()` method on the analysis set.\n",
    "- Save the results in a variable named `udc_results`.\n",
    "\n",
    "#### Use the correlation ranker\n",
    "- Initialize `nml.CorrelationRanker()` using the default parameters.\n",
    "- Use the `.fit()` method and pass there a filtered `PerformanceCalculator` results for the analysis period. F.e `.fit(perf_calc_results.filter(period=\"analysis\"))`.\n",
    "- Rank the features by using the `.rank()` function, by passing there `UnivariateDriftCalculator` and `PerfromanceCalculator` results.\n",
    "- Save the output in the `correlation_ranked_features` variable.\n",
    "\n",
    "#### Find the highest correlating feature\n",
    "- Display the correlation rank features.\n",
    "- Based on the DataFrame, create a variable called `highest_correlation_feature` and assign the appropriate feature name to it.\n",
    "\n",
    "### 3. Finding the Alert-Triggering Monthly Average Transaction Amount\n",
    "Use the summary average statistics calculator to determine the monthly average transaction amounts that trigger an alert.\n",
    "\n",
    "#### Calculate average monthly transactions\n",
    "- Initialize `nml.SummaryStatsAvgCalculator()`, setting the `column_name` parameter to `[\"transaction_amount\"]`, the `chunk_period` to `\"m\"`, and specifying the `timestamp_column_name`.\n",
    "- Input the reference data using the ``.fit()` method.\n",
    "- Call the `.calculate()` method on the analysis set.\n",
    "- Store the results in the `stats_avg_results` variable.\n",
    "\n",
    "#### Find the month\n",
    "- Display the `SummaryStatsAvgCalculator` by chaining the `.plot().show()` methods.\n",
    "- Based on the plot, create a variable named `alert_avg_transaction_amount` and assign the relevant value to it."
   ]
  },
  {
   "cell_type": "code",
   "execution_count": 27,
   "id": "6871be91-94ef-450b-9445-20392be988c9",
   "metadata": {
    "executionCancelledAt": null,
    "executionTime": 3451,
    "lastExecutedAt": 1724823696359,
    "lastExecutedByKernel": "31a771c1-87f6-45ad-be7f-e9f0da76f34d",
    "lastScheduledRunId": null,
    "lastSuccessfullyExecutedCode": "# Re-run this cell to install nannyml\n!pip install nannyml",
    "outputsMetadata": {
     "0": {
      "height": 384,
      "type": "stream"
     }
    }
   },
   "outputs": [
    {
     "name": "stdout",
     "output_type": "stream",
     "text": [
      "Defaulting to user installation because normal site-packages is not writeable\n",
      "Requirement already satisfied: nannyml in /home/repl/.local/lib/python3.8/site-packages (0.11.0)\n",
      "Requirement already satisfied: APScheduler<4.0.0,>=3.9.1 in /home/repl/.local/lib/python3.8/site-packages (from nannyml) (3.10.4)\n",
      "Requirement already satisfied: FLAML<2.0.0,>=1.0.11 in /home/repl/.local/lib/python3.8/site-packages (from nannyml) (1.2.4)\n",
      "Requirement already satisfied: Jinja2<3.1 in /home/repl/.local/lib/python3.8/site-packages (from nannyml) (3.0.3)\n",
      "Requirement already satisfied: PyYAML<7.0,>=6.0 in /usr/local/lib/python3.8/dist-packages (from nannyml) (6.0.1)\n",
      "Requirement already satisfied: category-encoders<3.0.0,>=2.3.0 in /usr/local/lib/python3.8/dist-packages (from nannyml) (2.6.2)\n",
      "Requirement already satisfied: click<9.0.0,>=8.1.3 in /usr/local/lib/python3.8/dist-packages (from nannyml) (8.1.3)\n",
      "Requirement already satisfied: gcsfs<2023.0.0,>=2022.5.0 in /home/repl/.local/lib/python3.8/site-packages (from nannyml) (2022.11.0)\n",
      "Requirement already satisfied: joblib<2.0.0,>=1.1.0 in /usr/local/lib/python3.8/dist-packages (from nannyml) (1.3.2)\n",
      "Requirement already satisfied: kaleido==0.2.1 in /usr/local/lib/python3.8/dist-packages (from nannyml) (0.2.1)\n",
      "Requirement already satisfied: lightgbm<4.0.0,>=3.3.2 in /usr/local/lib/python3.8/dist-packages (from nannyml) (3.3.3)\n",
      "Requirement already satisfied: matplotlib<4.0,>=3.7 in /home/repl/.local/lib/python3.8/site-packages (from nannyml) (3.7.5)\n",
      "Requirement already satisfied: numpy<1.25,>=1.24 in /home/repl/.local/lib/python3.8/site-packages (from nannyml) (1.24.4)\n",
      "Requirement already satisfied: pandas<2.0,>=1.5 in /usr/local/lib/python3.8/dist-packages (from nannyml) (1.5.1)\n",
      "Requirement already satisfied: plotly<6.0.0,>=5.6.0 in /usr/local/lib/python3.8/dist-packages (from nannyml) (5.10.0)\n",
      "Requirement already satisfied: psycopg2-binary<3.0.0,>=2.9.3 in /usr/local/lib/python3.8/dist-packages (from nannyml) (2.9.7)\n",
      "Requirement already satisfied: pyarrow<15.0.0,>=14.0.0 in /home/repl/.local/lib/python3.8/site-packages (from nannyml) (14.0.2)\n",
      "Requirement already satisfied: pydantic<3.0.0,>=2.7.4 in /home/repl/.local/lib/python3.8/site-packages (from nannyml) (2.8.2)\n",
      "Requirement already satisfied: pyfiglet<0.9,>=0.8.post1 in /home/repl/.local/lib/python3.8/site-packages (from nannyml) (0.8.post1)\n",
      "Requirement already satisfied: python-dateutil<3.0.0,>=2.8.2 in /usr/local/lib/python3.8/dist-packages (from nannyml) (2.8.2)\n",
      "Requirement already satisfied: python-dotenv<0.22.0,>=0.21.0 in /home/repl/.local/lib/python3.8/site-packages (from nannyml) (0.21.1)\n",
      "Requirement already satisfied: rich<13.0.0,>=12.5.1 in /home/repl/.local/lib/python3.8/site-packages (from nannyml) (12.6.0)\n",
      "Requirement already satisfied: s3fs<2023.0.0,>=2022.8.2 in /home/repl/.local/lib/python3.8/site-packages (from nannyml) (2022.11.0)\n",
      "Requirement already satisfied: scikit-learn<2.0,>=1.2 in /usr/local/lib/python3.8/dist-packages (from nannyml) (1.2.2)\n",
      "Requirement already satisfied: scipy<2.0,>=1.10 in /home/repl/.local/lib/python3.8/site-packages (from nannyml) (1.10.1)\n",
      "Requirement already satisfied: seaborn<0.14.0,>=0.13.2 in /home/repl/.local/lib/python3.8/site-packages (from nannyml) (0.13.2)\n",
      "Requirement already satisfied: segment-analytics-python<3.0.0,>=2.3.2 in /home/repl/.local/lib/python3.8/site-packages (from nannyml) (2.3.2)\n",
      "Requirement already satisfied: sqlmodel<0.0.20,>=0.0.19 in /home/repl/.local/lib/python3.8/site-packages (from nannyml) (0.0.19)\n",
      "Requirement already satisfied: types-python-dateutil<3.0.0.0,>=2.8.19.10 in /home/repl/.local/lib/python3.8/site-packages (from nannyml) (2.9.0.20240821)\n",
      "Requirement already satisfied: types-pyyaml<7.0.0.0,>=6.0.12.8 in /home/repl/.local/lib/python3.8/site-packages (from nannyml) (6.0.12.20240808)\n",
      "Requirement already satisfied: six>=1.4.0 in /usr/lib/python3/dist-packages (from APScheduler<4.0.0,>=3.9.1->nannyml) (1.14.0)\n",
      "Requirement already satisfied: pytz in /usr/local/lib/python3.8/dist-packages (from APScheduler<4.0.0,>=3.9.1->nannyml) (2022.7)\n",
      "Requirement already satisfied: tzlocal!=3.*,>=2.0 in /home/repl/.local/lib/python3.8/site-packages (from APScheduler<4.0.0,>=3.9.1->nannyml) (5.2)\n",
      "Requirement already satisfied: statsmodels>=0.9.0 in /usr/local/lib/python3.8/dist-packages (from category-encoders<3.0.0,>=2.3.0->nannyml) (0.14.0)\n",
      "Requirement already satisfied: patsy>=0.5.1 in /usr/local/lib/python3.8/dist-packages (from category-encoders<3.0.0,>=2.3.0->nannyml) (0.5.2)\n",
      "Requirement already satisfied: importlib-resources in /usr/local/lib/python3.8/dist-packages (from category-encoders<3.0.0,>=2.3.0->nannyml) (5.10.0)\n",
      "Requirement already satisfied: xgboost>=0.90 in /usr/local/lib/python3.8/dist-packages (from FLAML<2.0.0,>=1.0.11->nannyml) (1.6.2)\n",
      "Requirement already satisfied: google-auth>=1.2 in /home/repl/.local/lib/python3.8/site-packages (from gcsfs<2023.0.0,>=2022.5.0->nannyml) (2.34.0)\n",
      "Requirement already satisfied: google-auth-oauthlib in /usr/local/lib/python3.8/dist-packages (from gcsfs<2023.0.0,>=2022.5.0->nannyml) (0.4.6)\n",
      "Requirement already satisfied: google-cloud-storage in /home/repl/.local/lib/python3.8/site-packages (from gcsfs<2023.0.0,>=2022.5.0->nannyml) (2.18.2)\n",
      "Requirement already satisfied: requests in /usr/local/lib/python3.8/dist-packages (from gcsfs<2023.0.0,>=2022.5.0->nannyml) (2.31.0)\n",
      "Requirement already satisfied: decorator>4.1.2 in /usr/local/lib/python3.8/dist-packages (from gcsfs<2023.0.0,>=2022.5.0->nannyml) (5.1.1)\n",
      "Requirement already satisfied: fsspec==2022.11.0 in /home/repl/.local/lib/python3.8/site-packages (from gcsfs<2023.0.0,>=2022.5.0->nannyml) (2022.11.0)\n",
      "Requirement already satisfied: aiohttp!=4.0.0a0,!=4.0.0a1 in /usr/local/lib/python3.8/dist-packages (from gcsfs<2023.0.0,>=2022.5.0->nannyml) (3.8.1)\n",
      "Requirement already satisfied: MarkupSafe>=2.0 in /usr/local/lib/python3.8/dist-packages (from Jinja2<3.1->nannyml) (2.1.1)\n",
      "Requirement already satisfied: wheel in /usr/local/lib/python3.8/dist-packages (from lightgbm<4.0.0,>=3.3.2->nannyml) (0.38.4)\n",
      "Requirement already satisfied: contourpy>=1.0.1 in /usr/local/lib/python3.8/dist-packages (from matplotlib<4.0,>=3.7->nannyml) (1.0.6)\n",
      "Requirement already satisfied: cycler>=0.10 in /usr/local/lib/python3.8/dist-packages (from matplotlib<4.0,>=3.7->nannyml) (0.11.0)\n",
      "Requirement already satisfied: fonttools>=4.22.0 in /usr/local/lib/python3.8/dist-packages (from matplotlib<4.0,>=3.7->nannyml) (4.37.1)\n",
      "Requirement already satisfied: kiwisolver>=1.0.1 in /usr/local/lib/python3.8/dist-packages (from matplotlib<4.0,>=3.7->nannyml) (1.4.4)\n",
      "Requirement already satisfied: packaging>=20.0 in /usr/local/lib/python3.8/dist-packages (from matplotlib<4.0,>=3.7->nannyml) (23.2)\n",
      "Requirement already satisfied: pillow>=6.2.0 in /usr/local/lib/python3.8/dist-packages (from matplotlib<4.0,>=3.7->nannyml) (9.2.0)\n",
      "Requirement already satisfied: pyparsing>=2.3.1 in /usr/local/lib/python3.8/dist-packages (from matplotlib<4.0,>=3.7->nannyml) (3.0.9)\n",
      "Requirement already satisfied: tenacity>=6.2.0 in /usr/local/lib/python3.8/dist-packages (from plotly<6.0.0,>=5.6.0->nannyml) (8.2.3)\n",
      "Requirement already satisfied: annotated-types>=0.4.0 in /home/repl/.local/lib/python3.8/site-packages (from pydantic<3.0.0,>=2.7.4->nannyml) (0.7.0)\n",
      "Requirement already satisfied: pydantic-core==2.20.1 in /home/repl/.local/lib/python3.8/site-packages (from pydantic<3.0.0,>=2.7.4->nannyml) (2.20.1)\n",
      "Requirement already satisfied: typing-extensions>=4.6.1 in /usr/local/lib/python3.8/dist-packages (from pydantic<3.0.0,>=2.7.4->nannyml) (4.9.0)\n",
      "Requirement already satisfied: commonmark<0.10.0,>=0.9.0 in /home/repl/.local/lib/python3.8/site-packages (from rich<13.0.0,>=12.5.1->nannyml) (0.9.1)\n",
      "Requirement already satisfied: pygments<3.0.0,>=2.6.0 in /usr/local/lib/python3.8/dist-packages (from rich<13.0.0,>=12.5.1->nannyml) (2.13.0)\n",
      "Requirement already satisfied: aiobotocore~=2.4.0 in /home/repl/.local/lib/python3.8/site-packages (from s3fs<2023.0.0,>=2022.8.2->nannyml) (2.4.2)\n",
      "Requirement already satisfied: threadpoolctl>=2.0.0 in /usr/local/lib/python3.8/dist-packages (from scikit-learn<2.0,>=1.2->nannyml) (3.1.0)\n",
      "Requirement already satisfied: backoff~=2.1 in /usr/local/lib/python3.8/dist-packages (from segment-analytics-python<3.0.0,>=2.3.2->nannyml) (2.1.2)\n",
      "Requirement already satisfied: PyJWT~=2.8.0 in /home/repl/.local/lib/python3.8/site-packages (from segment-analytics-python<3.0.0,>=2.3.2->nannyml) (2.8.0)\n",
      "Requirement already satisfied: SQLAlchemy<2.1.0,>=2.0.14 in /home/repl/.local/lib/python3.8/site-packages (from sqlmodel<0.0.20,>=0.0.19->nannyml) (2.0.32)\n",
      "Requirement already satisfied: botocore<1.27.60,>=1.27.59 in /home/repl/.local/lib/python3.8/site-packages (from aiobotocore~=2.4.0->s3fs<2023.0.0,>=2022.8.2->nannyml) (1.27.59)\n",
      "Requirement already satisfied: wrapt>=1.10.10 in /usr/local/lib/python3.8/dist-packages (from aiobotocore~=2.4.0->s3fs<2023.0.0,>=2022.8.2->nannyml) (1.14.1)\n",
      "Requirement already satisfied: aioitertools>=0.5.1 in /home/repl/.local/lib/python3.8/site-packages (from aiobotocore~=2.4.0->s3fs<2023.0.0,>=2022.8.2->nannyml) (0.11.0)\n",
      "Requirement already satisfied: attrs>=17.3.0 in /usr/local/lib/python3.8/dist-packages (from aiohttp!=4.0.0a0,!=4.0.0a1->gcsfs<2023.0.0,>=2022.5.0->nannyml) (23.2.0)\n",
      "Requirement already satisfied: charset-normalizer<3.0,>=2.0 in /usr/local/lib/python3.8/dist-packages (from aiohttp!=4.0.0a0,!=4.0.0a1->gcsfs<2023.0.0,>=2022.5.0->nannyml) (2.0.12)\n",
      "Requirement already satisfied: multidict<7.0,>=4.5 in /usr/local/lib/python3.8/dist-packages (from aiohttp!=4.0.0a0,!=4.0.0a1->gcsfs<2023.0.0,>=2022.5.0->nannyml) (6.0.2)\n",
      "Requirement already satisfied: async-timeout<5.0,>=4.0.0a3 in /usr/local/lib/python3.8/dist-packages (from aiohttp!=4.0.0a0,!=4.0.0a1->gcsfs<2023.0.0,>=2022.5.0->nannyml) (4.0.2)\n",
      "Requirement already satisfied: yarl<2.0,>=1.0 in /usr/local/lib/python3.8/dist-packages (from aiohttp!=4.0.0a0,!=4.0.0a1->gcsfs<2023.0.0,>=2022.5.0->nannyml) (1.8.1)\n",
      "Requirement already satisfied: frozenlist>=1.1.1 in /usr/local/lib/python3.8/dist-packages (from aiohttp!=4.0.0a0,!=4.0.0a1->gcsfs<2023.0.0,>=2022.5.0->nannyml) (1.3.1)\n",
      "Requirement already satisfied: aiosignal>=1.1.2 in /usr/local/lib/python3.8/dist-packages (from aiohttp!=4.0.0a0,!=4.0.0a1->gcsfs<2023.0.0,>=2022.5.0->nannyml) (1.2.0)\n",
      "Requirement already satisfied: cachetools<6.0,>=2.0.0 in /usr/local/lib/python3.8/dist-packages (from google-auth>=1.2->gcsfs<2023.0.0,>=2022.5.0->nannyml) (5.2.0)\n",
      "Requirement already satisfied: pyasn1-modules>=0.2.1 in /usr/local/lib/python3.8/dist-packages (from google-auth>=1.2->gcsfs<2023.0.0,>=2022.5.0->nannyml) (0.2.8)\n",
      "Requirement already satisfied: rsa<5,>=3.1.4 in /usr/local/lib/python3.8/dist-packages (from google-auth>=1.2->gcsfs<2023.0.0,>=2022.5.0->nannyml) (4.7.2)\n",
      "Requirement already satisfied: zipp>=3.1.0 in /usr/local/lib/python3.8/dist-packages (from importlib-resources->category-encoders<3.0.0,>=2.3.0->nannyml) (3.8.1)\n",
      "Requirement already satisfied: idna<4,>=2.5 in /usr/lib/python3/dist-packages (from requests->gcsfs<2023.0.0,>=2022.5.0->nannyml) (2.8)\n",
      "Requirement already satisfied: urllib3<3,>=1.21.1 in /usr/lib/python3/dist-packages (from requests->gcsfs<2023.0.0,>=2022.5.0->nannyml) (1.25.8)\n",
      "Requirement already satisfied: certifi>=2017.4.17 in /usr/lib/python3/dist-packages (from requests->gcsfs<2023.0.0,>=2022.5.0->nannyml) (2019.11.28)\n",
      "Requirement already satisfied: greenlet!=0.4.17 in /usr/local/lib/python3.8/dist-packages (from SQLAlchemy<2.1.0,>=2.0.14->sqlmodel<0.0.20,>=0.0.19->nannyml) (1.1.3)\n",
      "Requirement already satisfied: backports.zoneinfo in /usr/local/lib/python3.8/dist-packages (from tzlocal!=3.*,>=2.0->APScheduler<4.0.0,>=3.9.1->nannyml) (0.2.1)\n",
      "Requirement already satisfied: requests-oauthlib>=0.7.0 in /usr/local/lib/python3.8/dist-packages (from google-auth-oauthlib->gcsfs<2023.0.0,>=2022.5.0->nannyml) (1.3.1)\n",
      "Requirement already satisfied: google-api-core<3.0.0dev,>=2.15.0 in /home/repl/.local/lib/python3.8/site-packages (from google-cloud-storage->gcsfs<2023.0.0,>=2022.5.0->nannyml) (2.19.2)\n",
      "Requirement already satisfied: google-cloud-core<3.0dev,>=2.3.0 in /home/repl/.local/lib/python3.8/site-packages (from google-cloud-storage->gcsfs<2023.0.0,>=2022.5.0->nannyml) (2.4.1)\n",
      "Requirement already satisfied: google-resumable-media>=2.7.2 in /home/repl/.local/lib/python3.8/site-packages (from google-cloud-storage->gcsfs<2023.0.0,>=2022.5.0->nannyml) (2.7.2)\n",
      "Requirement already satisfied: google-crc32c<2.0dev,>=1.0 in /home/repl/.local/lib/python3.8/site-packages (from google-cloud-storage->gcsfs<2023.0.0,>=2022.5.0->nannyml) (1.5.0)\n",
      "Requirement already satisfied: jmespath<2.0.0,>=0.7.1 in /usr/local/lib/python3.8/dist-packages (from botocore<1.27.60,>=1.27.59->aiobotocore~=2.4.0->s3fs<2023.0.0,>=2022.8.2->nannyml) (1.0.1)\n",
      "Requirement already satisfied: googleapis-common-protos<2.0.dev0,>=1.56.2 in /usr/local/lib/python3.8/dist-packages (from google-api-core<3.0.0dev,>=2.15.0->google-cloud-storage->gcsfs<2023.0.0,>=2022.5.0->nannyml) (1.56.4)\n",
      "Requirement already satisfied: protobuf!=3.20.0,!=3.20.1,!=4.21.0,!=4.21.1,!=4.21.2,!=4.21.3,!=4.21.4,!=4.21.5,<6.0.0.dev0,>=3.19.5 in /home/repl/.local/lib/python3.8/site-packages (from google-api-core<3.0.0dev,>=2.15.0->google-cloud-storage->gcsfs<2023.0.0,>=2022.5.0->nannyml) (4.25.4)\n",
      "Requirement already satisfied: proto-plus<2.0.0dev,>=1.22.3 in /home/repl/.local/lib/python3.8/site-packages (from google-api-core<3.0.0dev,>=2.15.0->google-cloud-storage->gcsfs<2023.0.0,>=2022.5.0->nannyml) (1.24.0)\n",
      "Requirement already satisfied: pyasn1<0.5.0,>=0.4.6 in /usr/local/lib/python3.8/dist-packages (from pyasn1-modules>=0.2.1->google-auth>=1.2->gcsfs<2023.0.0,>=2022.5.0->nannyml) (0.4.8)\n",
      "Requirement already satisfied: oauthlib>=3.0.0 in /usr/local/lib/python3.8/dist-packages (from requests-oauthlib>=0.7.0->google-auth-oauthlib->gcsfs<2023.0.0,>=2022.5.0->nannyml) (3.2.0)\n"
     ]
    }
   ],
   "source": [
    "# Re-run this cell to install nannyml\n",
    "!pip install nannyml"
   ]
  },
  {
   "cell_type": "code",
   "execution_count": 28,
   "id": "2ca4359b-3fb7-4cfc-8017-36f70e928fba",
   "metadata": {
    "executionCancelledAt": null,
    "executionTime": 51,
    "lastExecutedAt": 1724823696412,
    "lastExecutedByKernel": "31a771c1-87f6-45ad-be7f-e9f0da76f34d",
    "lastScheduledRunId": null,
    "lastSuccessfullyExecutedCode": "# Re-run this cell\n# Import required libraries\nimport pandas as pd\nimport nannyml as nml\nnml.disable_usage_logging()",
    "outputsMetadata": {
     "0": {
      "height": 213,
      "type": "dataFrame"
     }
    }
   },
   "outputs": [],
   "source": [
    "# Re-run this cell\n",
    "# Import required libraries\n",
    "import pandas as pd\n",
    "import nannyml as nml\n",
    "nml.disable_usage_logging()"
   ]
  },
  {
   "cell_type": "code",
   "execution_count": 29,
   "id": "971f7e7a-ffba-4e06-8939-dc07613c50b7",
   "metadata": {
    "executionCancelledAt": null,
    "executionTime": 117,
    "lastExecutedAt": 1724823696529,
    "lastExecutedByKernel": "31a771c1-87f6-45ad-be7f-e9f0da76f34d",
    "lastScheduledRunId": null,
    "lastSuccessfullyExecutedCode": "reference = pd.read_csv(\"reference.csv\")\nanalysis = pd.read_csv(\"analysis.csv\")"
   },
   "outputs": [],
   "source": [
    "reference = pd.read_csv(\"reference.csv\")\n",
    "analysis = pd.read_csv(\"analysis.csv\")"
   ]
  },
  {
   "cell_type": "code",
   "execution_count": 30,
   "id": "bcc1babd-68d2-4e1c-adf8-12c695b170ff",
   "metadata": {
    "executionCancelledAt": null,
    "executionTime": 62,
    "lastExecutedAt": 1724823696593,
    "lastExecutedByKernel": "31a771c1-87f6-45ad-be7f-e9f0da76f34d",
    "lastScheduledRunId": null,
    "lastSuccessfullyExecutedCode": "reference.head(6)",
    "outputsMetadata": {
     "0": {
      "height": 237,
      "type": "dataFrame"
     }
    }
   },
   "outputs": [
    {
     "data": {
      "application/com.datacamp.data-table.v2+json": {
       "table": {
        "data": {
         "index": [
          0,
          1,
          2,
          3,
          4,
          5
         ],
         "is_first_transaction": [
          false,
          false,
          false,
          false,
          false,
          false
         ],
         "is_fraud": [
          1,
          0,
          1,
          1,
          1,
          1
         ],
         "predicted_fraud": [
          1,
          0,
          1,
          1,
          1,
          1
         ],
         "predicted_fraud_proba": [
          0.99,
          0.07,
          1,
          0.98,
          0.99,
          0.95
         ],
         "time_since_login_min": [
          1.5617497108,
          1.6580740712,
          2.4542872188,
          2.3920851381,
          2.1898058355,
          2.2537655767
         ],
         "timestamp": [
          "2018-01-01 00:00:00.000",
          "2018-01-01 00:08:43.152",
          "2018-01-01 00:17:26.304",
          "2018-01-01 00:26:09.456",
          "2018-01-01 00:34:52.608",
          "2018-01-01 00:43:35.760"
         ],
         "transaction_amount": [
          3981.1,
          1267.9,
          1984.7,
          2265.2,
          2126.8,
          1346.2
         ],
         "transaction_type": [
          "PAYMENT",
          "PAYMENT",
          "CASH-IN",
          "CASH-OUT",
          "CASH-IN",
          "CASH-IN"
         ],
         "user_tenure_months": [
          0.3189799442,
          7.3913228864,
          0.7812249918,
          0.6804729918,
          8.5428945723,
          2.5353405093
         ]
        },
        "schema": {
         "fields": [
          {
           "name": "index",
           "type": "integer"
          },
          {
           "name": "timestamp",
           "type": "string"
          },
          {
           "name": "time_since_login_min",
           "type": "number"
          },
          {
           "name": "transaction_amount",
           "type": "number"
          },
          {
           "name": "transaction_type",
           "type": "string"
          },
          {
           "name": "is_first_transaction",
           "type": "boolean"
          },
          {
           "name": "user_tenure_months",
           "type": "number"
          },
          {
           "name": "is_fraud",
           "type": "number"
          },
          {
           "name": "predicted_fraud_proba",
           "type": "number"
          },
          {
           "name": "predicted_fraud",
           "type": "integer"
          }
         ],
         "pandas_version": "1.4.0",
         "primaryKey": [
          "index"
         ]
        }
       },
       "total_rows": 6,
       "truncation_type": null
      },
      "text/html": [
       "<div>\n",
       "<style scoped>\n",
       "    .dataframe tbody tr th:only-of-type {\n",
       "        vertical-align: middle;\n",
       "    }\n",
       "\n",
       "    .dataframe tbody tr th {\n",
       "        vertical-align: top;\n",
       "    }\n",
       "\n",
       "    .dataframe thead th {\n",
       "        text-align: right;\n",
       "    }\n",
       "</style>\n",
       "<table border=\"1\" class=\"dataframe\">\n",
       "  <thead>\n",
       "    <tr style=\"text-align: right;\">\n",
       "      <th></th>\n",
       "      <th>timestamp</th>\n",
       "      <th>time_since_login_min</th>\n",
       "      <th>transaction_amount</th>\n",
       "      <th>transaction_type</th>\n",
       "      <th>is_first_transaction</th>\n",
       "      <th>user_tenure_months</th>\n",
       "      <th>is_fraud</th>\n",
       "      <th>predicted_fraud_proba</th>\n",
       "      <th>predicted_fraud</th>\n",
       "    </tr>\n",
       "  </thead>\n",
       "  <tbody>\n",
       "    <tr>\n",
       "      <th>0</th>\n",
       "      <td>2018-01-01 00:00:00.000</td>\n",
       "      <td>1.561750</td>\n",
       "      <td>3981.1</td>\n",
       "      <td>PAYMENT</td>\n",
       "      <td>False</td>\n",
       "      <td>0.318980</td>\n",
       "      <td>1.0</td>\n",
       "      <td>0.99</td>\n",
       "      <td>1</td>\n",
       "    </tr>\n",
       "    <tr>\n",
       "      <th>1</th>\n",
       "      <td>2018-01-01 00:08:43.152</td>\n",
       "      <td>1.658074</td>\n",
       "      <td>1267.9</td>\n",
       "      <td>PAYMENT</td>\n",
       "      <td>False</td>\n",
       "      <td>7.391323</td>\n",
       "      <td>0.0</td>\n",
       "      <td>0.07</td>\n",
       "      <td>0</td>\n",
       "    </tr>\n",
       "    <tr>\n",
       "      <th>2</th>\n",
       "      <td>2018-01-01 00:17:26.304</td>\n",
       "      <td>2.454287</td>\n",
       "      <td>1984.7</td>\n",
       "      <td>CASH-IN</td>\n",
       "      <td>False</td>\n",
       "      <td>0.781225</td>\n",
       "      <td>1.0</td>\n",
       "      <td>1.00</td>\n",
       "      <td>1</td>\n",
       "    </tr>\n",
       "    <tr>\n",
       "      <th>3</th>\n",
       "      <td>2018-01-01 00:26:09.456</td>\n",
       "      <td>2.392085</td>\n",
       "      <td>2265.2</td>\n",
       "      <td>CASH-OUT</td>\n",
       "      <td>False</td>\n",
       "      <td>0.680473</td>\n",
       "      <td>1.0</td>\n",
       "      <td>0.98</td>\n",
       "      <td>1</td>\n",
       "    </tr>\n",
       "    <tr>\n",
       "      <th>4</th>\n",
       "      <td>2018-01-01 00:34:52.608</td>\n",
       "      <td>2.189806</td>\n",
       "      <td>2126.8</td>\n",
       "      <td>CASH-IN</td>\n",
       "      <td>False</td>\n",
       "      <td>8.542895</td>\n",
       "      <td>1.0</td>\n",
       "      <td>0.99</td>\n",
       "      <td>1</td>\n",
       "    </tr>\n",
       "    <tr>\n",
       "      <th>5</th>\n",
       "      <td>2018-01-01 00:43:35.760</td>\n",
       "      <td>2.253766</td>\n",
       "      <td>1346.2</td>\n",
       "      <td>CASH-IN</td>\n",
       "      <td>False</td>\n",
       "      <td>2.535341</td>\n",
       "      <td>1.0</td>\n",
       "      <td>0.95</td>\n",
       "      <td>1</td>\n",
       "    </tr>\n",
       "  </tbody>\n",
       "</table>\n",
       "</div>"
      ],
      "text/plain": [
       "                 timestamp  ...  predicted_fraud\n",
       "0  2018-01-01 00:00:00.000  ...                1\n",
       "1  2018-01-01 00:08:43.152  ...                0\n",
       "2  2018-01-01 00:17:26.304  ...                1\n",
       "3  2018-01-01 00:26:09.456  ...                1\n",
       "4  2018-01-01 00:34:52.608  ...                1\n",
       "5  2018-01-01 00:43:35.760  ...                1\n",
       "\n",
       "[6 rows x 9 columns]"
      ]
     },
     "execution_count": 30,
     "metadata": {},
     "output_type": "execute_result"
    }
   ],
   "source": [
    "reference.head(6)"
   ]
  },
  {
   "cell_type": "code",
   "execution_count": 31,
   "id": "a165a806-d6a9-422a-81c3-3beda45a5105",
   "metadata": {
    "executionCancelledAt": null,
    "executionTime": 69,
    "lastExecutedAt": 1724823696662,
    "lastExecutedByKernel": "31a771c1-87f6-45ad-be7f-e9f0da76f34d",
    "lastScheduledRunId": null,
    "lastSuccessfullyExecutedCode": "analysis.head(6)",
    "outputsMetadata": {
     "0": {
      "height": 237,
      "type": "dataFrame"
     }
    }
   },
   "outputs": [
    {
     "data": {
      "application/com.datacamp.data-table.v2+json": {
       "table": {
        "data": {
         "index": [
          0,
          1,
          2,
          3,
          4,
          5
         ],
         "is_first_transaction": [
          false,
          false,
          false,
          true,
          false,
          false
         ],
         "is_fraud": [
          1,
          0,
          0,
          0,
          0,
          0
         ],
         "predicted_fraud": [
          1,
          0,
          0,
          0,
          0,
          0
         ],
         "predicted_fraud_proba": [
          0.97,
          0.09,
          0.01,
          0,
          0.03,
          0.02
         ],
         "time_since_login_min": [
          2.1742433771,
          2.4935432278,
          1.8074319859,
          2.1334153029,
          1.9878274841,
          2.9788381327
         ],
         "timestamp": [
          "2018-11-01 00:04:52.464",
          "2018-11-01 00:13:35.616",
          "2018-11-01 00:22:18.768",
          "2018-11-01 00:31:01.920",
          "2018-11-01 00:39:45.072",
          "2018-11-01 00:48:28.224"
         ],
         "transaction_amount": [
          2832.3,
          1426.9,
          1302,
          1432.1,
          1870.3,
          1512.5
         ],
         "transaction_type": [
          "CASH-OUT",
          "CASH-OUT",
          "PAYMENT",
          "PAYMENT",
          "CASH-OUT",
          "PAYMENT"
         ],
         "user_tenure_months": [
          1.0134445819,
          6.7000410702,
          6.2917227537,
          8.1655029207,
          8.2052029807,
          9.4906698261
         ]
        },
        "schema": {
         "fields": [
          {
           "name": "index",
           "type": "integer"
          },
          {
           "name": "timestamp",
           "type": "string"
          },
          {
           "name": "time_since_login_min",
           "type": "number"
          },
          {
           "name": "transaction_amount",
           "type": "number"
          },
          {
           "name": "transaction_type",
           "type": "string"
          },
          {
           "name": "is_first_transaction",
           "type": "boolean"
          },
          {
           "name": "user_tenure_months",
           "type": "number"
          },
          {
           "name": "predicted_fraud_proba",
           "type": "number"
          },
          {
           "name": "predicted_fraud",
           "type": "integer"
          },
          {
           "name": "is_fraud",
           "type": "integer"
          }
         ],
         "pandas_version": "1.4.0",
         "primaryKey": [
          "index"
         ]
        }
       },
       "total_rows": 6,
       "truncation_type": null
      },
      "text/html": [
       "<div>\n",
       "<style scoped>\n",
       "    .dataframe tbody tr th:only-of-type {\n",
       "        vertical-align: middle;\n",
       "    }\n",
       "\n",
       "    .dataframe tbody tr th {\n",
       "        vertical-align: top;\n",
       "    }\n",
       "\n",
       "    .dataframe thead th {\n",
       "        text-align: right;\n",
       "    }\n",
       "</style>\n",
       "<table border=\"1\" class=\"dataframe\">\n",
       "  <thead>\n",
       "    <tr style=\"text-align: right;\">\n",
       "      <th></th>\n",
       "      <th>timestamp</th>\n",
       "      <th>time_since_login_min</th>\n",
       "      <th>transaction_amount</th>\n",
       "      <th>transaction_type</th>\n",
       "      <th>is_first_transaction</th>\n",
       "      <th>user_tenure_months</th>\n",
       "      <th>predicted_fraud_proba</th>\n",
       "      <th>predicted_fraud</th>\n",
       "      <th>is_fraud</th>\n",
       "    </tr>\n",
       "  </thead>\n",
       "  <tbody>\n",
       "    <tr>\n",
       "      <th>0</th>\n",
       "      <td>2018-11-01 00:04:52.464</td>\n",
       "      <td>2.174243</td>\n",
       "      <td>2832.3</td>\n",
       "      <td>CASH-OUT</td>\n",
       "      <td>False</td>\n",
       "      <td>1.013445</td>\n",
       "      <td>0.97</td>\n",
       "      <td>1</td>\n",
       "      <td>1</td>\n",
       "    </tr>\n",
       "    <tr>\n",
       "      <th>1</th>\n",
       "      <td>2018-11-01 00:13:35.616</td>\n",
       "      <td>2.493543</td>\n",
       "      <td>1426.9</td>\n",
       "      <td>CASH-OUT</td>\n",
       "      <td>False</td>\n",
       "      <td>6.700041</td>\n",
       "      <td>0.09</td>\n",
       "      <td>0</td>\n",
       "      <td>0</td>\n",
       "    </tr>\n",
       "    <tr>\n",
       "      <th>2</th>\n",
       "      <td>2018-11-01 00:22:18.768</td>\n",
       "      <td>1.807432</td>\n",
       "      <td>1302.0</td>\n",
       "      <td>PAYMENT</td>\n",
       "      <td>False</td>\n",
       "      <td>6.291723</td>\n",
       "      <td>0.01</td>\n",
       "      <td>0</td>\n",
       "      <td>0</td>\n",
       "    </tr>\n",
       "    <tr>\n",
       "      <th>3</th>\n",
       "      <td>2018-11-01 00:31:01.920</td>\n",
       "      <td>2.133415</td>\n",
       "      <td>1432.1</td>\n",
       "      <td>PAYMENT</td>\n",
       "      <td>True</td>\n",
       "      <td>8.165503</td>\n",
       "      <td>0.00</td>\n",
       "      <td>0</td>\n",
       "      <td>0</td>\n",
       "    </tr>\n",
       "    <tr>\n",
       "      <th>4</th>\n",
       "      <td>2018-11-01 00:39:45.072</td>\n",
       "      <td>1.987827</td>\n",
       "      <td>1870.3</td>\n",
       "      <td>CASH-OUT</td>\n",
       "      <td>False</td>\n",
       "      <td>8.205203</td>\n",
       "      <td>0.03</td>\n",
       "      <td>0</td>\n",
       "      <td>0</td>\n",
       "    </tr>\n",
       "    <tr>\n",
       "      <th>5</th>\n",
       "      <td>2018-11-01 00:48:28.224</td>\n",
       "      <td>2.978838</td>\n",
       "      <td>1512.5</td>\n",
       "      <td>PAYMENT</td>\n",
       "      <td>False</td>\n",
       "      <td>9.490670</td>\n",
       "      <td>0.02</td>\n",
       "      <td>0</td>\n",
       "      <td>0</td>\n",
       "    </tr>\n",
       "  </tbody>\n",
       "</table>\n",
       "</div>"
      ],
      "text/plain": [
       "                 timestamp  time_since_login_min  ...  predicted_fraud is_fraud\n",
       "0  2018-11-01 00:04:52.464              2.174243  ...                1        1\n",
       "1  2018-11-01 00:13:35.616              2.493543  ...                0        0\n",
       "2  2018-11-01 00:22:18.768              1.807432  ...                0        0\n",
       "3  2018-11-01 00:31:01.920              2.133415  ...                0        0\n",
       "4  2018-11-01 00:39:45.072              1.987827  ...                0        0\n",
       "5  2018-11-01 00:48:28.224              2.978838  ...                0        0\n",
       "\n",
       "[6 rows x 9 columns]"
      ]
     },
     "execution_count": 31,
     "metadata": {},
     "output_type": "execute_result"
    }
   ],
   "source": [
    "analysis.head(6)"
   ]
  },
  {
   "cell_type": "code",
   "execution_count": 32,
   "id": "57e542a8-0375-454d-a5b0-e4f621bc3065",
   "metadata": {
    "executionCancelledAt": null,
    "executionTime": 62,
    "lastExecutedAt": 1724823696724,
    "lastExecutedByKernel": "31a771c1-87f6-45ad-be7f-e9f0da76f34d",
    "lastScheduledRunId": null,
    "lastSuccessfullyExecutedCode": "reference.info()",
    "outputsMetadata": {
     "0": {
      "height": 353,
      "type": "stream"
     }
    }
   },
   "outputs": [
    {
     "name": "stdout",
     "output_type": "stream",
     "text": [
      "<class 'pandas.core.frame.DataFrame'>\n",
      "RangeIndex: 50207 entries, 0 to 50206\n",
      "Data columns (total 9 columns):\n",
      " #   Column                 Non-Null Count  Dtype  \n",
      "---  ------                 --------------  -----  \n",
      " 0   timestamp              50207 non-null  object \n",
      " 1   time_since_login_min   50207 non-null  float64\n",
      " 2   transaction_amount     50207 non-null  float64\n",
      " 3   transaction_type       47155 non-null  object \n",
      " 4   is_first_transaction   50207 non-null  bool   \n",
      " 5   user_tenure_months     50207 non-null  float64\n",
      " 6   is_fraud               50207 non-null  float64\n",
      " 7   predicted_fraud_proba  50207 non-null  float64\n",
      " 8   predicted_fraud        50207 non-null  int64  \n",
      "dtypes: bool(1), float64(5), int64(1), object(2)\n",
      "memory usage: 3.1+ MB\n"
     ]
    }
   ],
   "source": [
    "reference.info()"
   ]
  },
  {
   "cell_type": "code",
   "execution_count": 33,
   "id": "66ec6f1e-f444-414c-8d86-069820af76c2",
   "metadata": {
    "executionCancelledAt": null,
    "executionTime": 56,
    "lastExecutedAt": 1724823696780,
    "lastExecutedByKernel": "31a771c1-87f6-45ad-be7f-e9f0da76f34d",
    "lastScheduledRunId": null,
    "lastSuccessfullyExecutedCode": "analysis.info()",
    "outputsMetadata": {
     "0": {
      "height": 353,
      "type": "stream"
     }
    }
   },
   "outputs": [
    {
     "name": "stdout",
     "output_type": "stream",
     "text": [
      "<class 'pandas.core.frame.DataFrame'>\n",
      "RangeIndex: 39967 entries, 0 to 39966\n",
      "Data columns (total 9 columns):\n",
      " #   Column                 Non-Null Count  Dtype  \n",
      "---  ------                 --------------  -----  \n",
      " 0   timestamp              39967 non-null  object \n",
      " 1   time_since_login_min   39967 non-null  float64\n",
      " 2   transaction_amount     39967 non-null  float64\n",
      " 3   transaction_type       37514 non-null  object \n",
      " 4   is_first_transaction   39967 non-null  bool   \n",
      " 5   user_tenure_months     39967 non-null  float64\n",
      " 6   predicted_fraud_proba  39967 non-null  float64\n",
      " 7   predicted_fraud        39967 non-null  int64  \n",
      " 8   is_fraud               39967 non-null  int64  \n",
      "dtypes: bool(1), float64(4), int64(2), object(2)\n",
      "memory usage: 2.5+ MB\n"
     ]
    }
   ],
   "source": [
    "analysis.info()"
   ]
  },
  {
   "cell_type": "code",
   "execution_count": 34,
   "id": "49adcc93-8a83-476a-8aba-6a9aab8690eb",
   "metadata": {
    "collapsed": false,
    "executionCancelledAt": null,
    "executionTime": 1433,
    "jupyter": {
     "outputs_hidden": false,
     "source_hidden": false
    },
    "lastExecutedAt": 1724823698213,
    "lastExecutedByKernel": "31a771c1-87f6-45ad-be7f-e9f0da76f34d",
    "lastScheduledRunId": null,
    "lastSuccessfullyExecutedCode": "## Identifing the months when both the estimated and realized ROC AUC of the model have alerts. Store the names of these months as lowercase strings in a list named months_with_performance_alerts. \n\n# Get the estimated performance using CBPE algorithm\ncbpe = nml.CBPE(\n    timestamp_column_name=\"timestamp\",\n    y_true=\"is_fraud\",\n    y_pred=\"predicted_fraud\",\n    y_pred_proba=\"predicted_fraud_proba\",\n    problem_type=\"classification_binary\",\n    metrics=[\"accuracy\"],\n    chunk_period=\"m\"\n)\n\ncbpe.fit(reference)\nest_results = cbpe.estimate(analysis)\n\n# Calculate the realized performance\ncalculator = nml.PerformanceCalculator(\n    y_true=\"is_fraud\",\n    y_pred=\"predicted_fraud\",\n    y_pred_proba=\"predicted_fraud_proba\",\n    timestamp_column_name=\"timestamp\",\n    metrics=[\"accuracy\"],\n    chunk_period=\"m\",\n    problem_type=\"classification_binary\",\n)\ncalculator = calculator.fit(reference)\ncalc_results = calculator.calculate(analysis)\n\n# Compare the results and find the months with alerts\nest_results.compare(calc_results).plot().show()\nmonths_with_performance_alerts = [\"april_2019\", \"may_2019\", \"june_2019\"]\nprint(\"months_with_performance_alerts:\", months_with_performance_alerts)\n\n## Determining which alerting feature has the strongest correlation with the model’s realized performance. Store the name of this feature in a variable named highest_correlation_feature. \n\nfeatures = [\"time_since_login_min\", \"transaction_amount\",\n            \"transaction_type\", \"is_first_transaction\", \n            \"user_tenure_months\"]\n\n# Calculate the univariate drift results\nudc = nml.UnivariateDriftCalculator(\n    timestamp_column_name=\"timestamp\",\n    column_names=features,\n    chunk_period=\"m\",\n    continuous_methods=[\"kolmogorov_smirnov\"],\n    categorical_methods=[\"chi2\"]\n)\n\nudc.fit(reference)\nudc_results = udc.calculate(analysis)\n\n# Use the correlation ranker\nranker = nml.CorrelationRanker()\nranker.fit(\n    calc_results.filter(period=\"reference\"))\n\ncorrelation_ranked_features = ranker.rank(udc_results, calc_results)\n\n# Find the highest correlating feature\ndisplay(correlation_ranked_features)\nhighest_correlation_feature = \"time_since_login_min\"\nprint(\"highest_correlation_feature:\", highest_correlation_feature)\n\n## Use the summary average statistics calculator to find out what were the monthly average transactions amounts, and if there's any alert. Record this value in a variable called alert_avg_transaction_amount.\n\n# Calculate average monthly transactions\ncalc = nml.SummaryStatsAvgCalculator(\n    column_names=[\"transaction_amount\"],\n    chunk_period=\"m\",\n    timestamp_column_name=\"timestamp\",\n)\n\ncalc.fit(reference)\nstats_avg_results = calc.calculate(analysis)\n\n# Find the month\nstats_avg_results.plot().show()\nalert_avg_transaction_amount = 3069.8184\nprint(\"alert_avg_transaction_amount:\", alert_avg_transaction_amount)",
    "outputsMetadata": {
     "0": {
      "height": 517,
      "type": "plotly"
     },
     "1": {
      "height": 38,
      "type": "stream"
     },
     "2": {
      "height": 194,
      "type": "dataFrame"
     },
     "3": {
      "height": 38,
      "type": "stream"
     },
     "4": {
      "height": 17,
      "type": "plotly"
     },
     "5": {
      "height": 38,
      "type": "stream"
     }
    }
   },
   "outputs": [
    {
     "data": {
      "application/vnd.plotly.v1+json": {
       "config": {
        "displaylogo": false,
        "plotlyServerURL": "https://plot.ly",
        "toImageButtonOptions": {
         "filename": "DataLab plot",
         "format": "png",
         "height": 500,
         "scale": 2,
         "width": 700
        }
       },
       "data": [
        {
         "hoverinfo": "skip",
         "line": {
          "color": "#3b0280",
          "dash": "dash",
          "shape": "hv",
          "width": 2
         },
         "mode": "lines",
         "name": "<b>Accuracy</b> (estimated Accuracy)",
         "showlegend": true,
         "type": "scatter",
         "x": [
          "2018-01-01T00:00:00",
          "2018-02-01T00:00:00",
          "2018-03-01T00:00:00",
          "2018-04-01T00:00:00",
          "2018-05-01T00:00:00",
          "2018-06-01T00:00:00",
          "2018-07-01T00:00:00",
          "2018-08-01T00:00:00",
          "2018-09-01T00:00:00",
          "2018-10-01T00:00:00",
          "2018-10-31T23:59:59.999999"
         ],
         "xaxis": "x",
         "y": [
          0.9445929208457535,
          0.9430635689198349,
          0.942375909161086,
          0.9443428602409946,
          0.9437457563042176,
          0.9436680864973236,
          0.9415108329578562,
          0.9450877716192105,
          0.9448595100114542,
          0.9454165795231557,
          0.9454165795231557
         ],
         "yaxis": "y"
        },
        {
         "customdata": [
          [
           "<b>Accuracy</b> (estimated Accuracy)",
           "<b style=\"color:#3b0280;line-height:60px\">Reference</b>",
           "2018-01",
           "From <b>Jan-01-2018</b> to <b>Jan-31-2018</b>",
           0.9446
          ],
          [
           "<b>Accuracy</b> (estimated Accuracy)",
           "<b style=\"color:#3b0280;line-height:60px\">Reference</b>",
           "2018-02",
           "From <b>Feb-01-2018</b> to <b>Feb-28-2018</b>",
           0.9431
          ],
          [
           "<b>Accuracy</b> (estimated Accuracy)",
           "<b style=\"color:#3b0280;line-height:60px\">Reference</b>",
           "2018-03",
           "From <b>Mar-01-2018</b> to <b>Mar-31-2018</b>",
           0.9424
          ],
          [
           "<b>Accuracy</b> (estimated Accuracy)",
           "<b style=\"color:#3b0280;line-height:60px\">Reference</b>",
           "2018-04",
           "From <b>Apr-01-2018</b> to <b>Apr-30-2018</b>",
           0.9443
          ],
          [
           "<b>Accuracy</b> (estimated Accuracy)",
           "<b style=\"color:#3b0280;line-height:60px\">Reference</b>",
           "2018-05",
           "From <b>May-01-2018</b> to <b>May-31-2018</b>",
           0.9437
          ],
          [
           "<b>Accuracy</b> (estimated Accuracy)",
           "<b style=\"color:#3b0280;line-height:60px\">Reference</b>",
           "2018-06",
           "From <b>Jun-01-2018</b> to <b>Jun-30-2018</b>",
           0.9437
          ],
          [
           "<b>Accuracy</b> (estimated Accuracy)",
           "<b style=\"color:#3b0280;line-height:60px\">Reference</b>",
           "2018-07",
           "From <b>Jul-01-2018</b> to <b>Jul-31-2018</b>",
           0.9415
          ],
          [
           "<b>Accuracy</b> (estimated Accuracy)",
           "<b style=\"color:#3b0280;line-height:60px\">Reference</b>",
           "2018-08",
           "From <b>Aug-01-2018</b> to <b>Aug-31-2018</b>",
           0.9451
          ],
          [
           "<b>Accuracy</b> (estimated Accuracy)",
           "<b style=\"color:#3b0280;line-height:60px\">Reference</b>",
           "2018-09",
           "From <b>Sep-01-2018</b> to <b>Sep-30-2018</b>",
           0.9449
          ],
          [
           "<b>Accuracy</b> (estimated Accuracy)",
           "<b style=\"color:#3b0280;line-height:60px\">Reference</b>",
           "2018-10",
           "From <b>Oct-01-2018</b> to <b>Oct-31-2018</b>",
           0.9454
          ]
         ],
         "hovertemplate": "%{customdata[1]}<br />Chunk: <b>%{customdata[2]}</b> &nbsp; &nbsp; %{customdata[3]} <br />%{customdata[0]}: <b>%{customdata[4]}</b><br /><extra></extra>",
         "line": {
          "dash": "dash"
         },
         "marker": {
          "color": "#3b0280",
          "size": 5,
          "symbol": "circle"
         },
         "mode": "markers",
         "name": "<b>Accuracy</b> (estimated Accuracy)",
         "showlegend": false,
         "type": "scatter",
         "x": [
          "2018-01-16T12:00:00",
          "2018-02-15T00:00:00",
          "2018-03-16T12:00:00",
          "2018-04-16T00:00:00",
          "2018-05-16T12:00:00",
          "2018-06-16T00:00:00",
          "2018-07-16T12:00:00",
          "2018-08-16T12:00:00",
          "2018-09-16T00:00:00",
          "2018-10-16T11:59:59.999999"
         ],
         "xaxis": "x",
         "y": [
          0.9445929208457535,
          0.9430635689198349,
          0.942375909161086,
          0.9443428602409946,
          0.9437457563042176,
          0.9436680864973236,
          0.9415108329578562,
          0.9450877716192105,
          0.9448595100114542,
          0.9454165795231557,
          0.9454165795231557
         ],
         "yaxis": "y"
        },
        {
         "connectgaps": true,
         "hoverinfo": "skip",
         "line": {
          "color": "rgba(0,0,0,0)",
          "dash": "dash",
          "shape": "hv"
         },
         "mode": "lines",
         "name": "Confidence band",
         "showlegend": false,
         "type": "scatter",
         "x": [
          "2018-01-01T00:00:00",
          "2018-02-01T00:00:00",
          "2018-03-01T00:00:00",
          "2018-04-01T00:00:00",
          "2018-05-01T00:00:00",
          "2018-06-01T00:00:00",
          "2018-07-01T00:00:00",
          "2018-08-01T00:00:00",
          "2018-09-01T00:00:00",
          "2018-10-01T00:00:00",
          "2018-10-31T23:59:59.999999"
         ],
         "xaxis": "x",
         "y": [
          0.9542639152504583,
          0.9532389397125981,
          0.9520478481372053,
          0.9541735566193803,
          0.9534167507089224,
          0.953499775023502,
          0.951181827362561,
          0.9547587660239153,
          0.9546911985376326,
          0.9550875739278605,
          0.9550875739278605
         ],
         "yaxis": "y"
        },
        {
         "connectgaps": true,
         "fill": "tonexty",
         "fillcolor": "rgba(0.23137254901960785, 0.00784313725490196, 0.5019607843137255, 0.2)",
         "hoverinfo": "skip",
         "line": {
          "color": "rgba(0,0,0,0)",
          "dash": "dash",
          "shape": "hv"
         },
         "mode": "lines",
         "name": "Confidence band",
         "showlegend": true,
         "type": "scatter",
         "x": [
          "2018-01-01T00:00:00",
          "2018-02-01T00:00:00",
          "2018-03-01T00:00:00",
          "2018-04-01T00:00:00",
          "2018-05-01T00:00:00",
          "2018-06-01T00:00:00",
          "2018-07-01T00:00:00",
          "2018-08-01T00:00:00",
          "2018-09-01T00:00:00",
          "2018-10-01T00:00:00",
          "2018-10-31T23:59:59.999999"
         ],
         "xaxis": "x",
         "y": [
          0.9349219264410488,
          0.9328881981270717,
          0.9327039701849668,
          0.9345121638626088,
          0.9340747618995129,
          0.9338363979711451,
          0.9318398385531514,
          0.9354167772145058,
          0.9350278214852757,
          0.935745585118451,
          0.935745585118451
         ],
         "yaxis": "y"
        },
        {
         "hoverinfo": "skip",
         "line": {
          "color": "#00c8e5",
          "shape": "hv",
          "width": 2
         },
         "mode": "lines",
         "name": "<b>Accuracy</b> (realized Accuracy)",
         "showlegend": true,
         "type": "scatter",
         "x": [
          "2018-01-01T00:00:00",
          "2018-02-01T00:00:00",
          "2018-03-01T00:00:00",
          "2018-04-01T00:00:00",
          "2018-05-01T00:00:00",
          "2018-06-01T00:00:00",
          "2018-07-01T00:00:00",
          "2018-08-01T00:00:00",
          "2018-09-01T00:00:00",
          "2018-10-01T00:00:00",
          "2018-10-31T23:59:59.999999"
         ],
         "xaxis": "x",
         "y": [
          0.9470703125,
          0.9398918918918919,
          0.944129712834538,
          0.9442986881937437,
          0.938671875,
          0.9444893015744853,
          0.9447265625,
          0.944921875,
          0.9450948728300363,
          0.942578125,
          0.942578125
         ],
         "yaxis": "y"
        },
        {
         "customdata": [
          [
           "<b>Accuracy</b>",
           "<b style=\"color:#00c8e5;line-height:60px\">Reference</b>",
           "2018-01",
           "From <b>Jan-01-2018</b> to <b>Jan-31-2018</b>",
           0.9471
          ],
          [
           "<b>Accuracy</b>",
           "<b style=\"color:#00c8e5;line-height:60px\">Reference</b>",
           "2018-02",
           "From <b>Feb-01-2018</b> to <b>Feb-28-2018</b>",
           0.9399
          ],
          [
           "<b>Accuracy</b>",
           "<b style=\"color:#00c8e5;line-height:60px\">Reference</b>",
           "2018-03",
           "From <b>Mar-01-2018</b> to <b>Mar-31-2018</b>",
           0.9441
          ],
          [
           "<b>Accuracy</b>",
           "<b style=\"color:#00c8e5;line-height:60px\">Reference</b>",
           "2018-04",
           "From <b>Apr-01-2018</b> to <b>Apr-30-2018</b>",
           0.9443
          ],
          [
           "<b>Accuracy</b>",
           "<b style=\"color:#00c8e5;line-height:60px\">Reference</b>",
           "2018-05",
           "From <b>May-01-2018</b> to <b>May-31-2018</b>",
           0.9387
          ],
          [
           "<b>Accuracy</b>",
           "<b style=\"color:#00c8e5;line-height:60px\">Reference</b>",
           "2018-06",
           "From <b>Jun-01-2018</b> to <b>Jun-30-2018</b>",
           0.9445
          ],
          [
           "<b>Accuracy</b>",
           "<b style=\"color:#00c8e5;line-height:60px\">Reference</b>",
           "2018-07",
           "From <b>Jul-01-2018</b> to <b>Jul-31-2018</b>",
           0.9447
          ],
          [
           "<b>Accuracy</b>",
           "<b style=\"color:#00c8e5;line-height:60px\">Reference</b>",
           "2018-08",
           "From <b>Aug-01-2018</b> to <b>Aug-31-2018</b>",
           0.9449
          ],
          [
           "<b>Accuracy</b>",
           "<b style=\"color:#00c8e5;line-height:60px\">Reference</b>",
           "2018-09",
           "From <b>Sep-01-2018</b> to <b>Sep-30-2018</b>",
           0.9451
          ],
          [
           "<b>Accuracy</b>",
           "<b style=\"color:#00c8e5;line-height:60px\">Reference</b>",
           "2018-10",
           "From <b>Oct-01-2018</b> to <b>Oct-31-2018</b>",
           0.9426
          ]
         ],
         "hovertemplate": "%{customdata[1]}<br />Chunk: <b>%{customdata[2]}</b> &nbsp; &nbsp; %{customdata[3]} <br />%{customdata[0]}: <b>%{customdata[4]}</b><br /><extra></extra>",
         "marker": {
          "color": "#00c8e5",
          "size": 5,
          "symbol": "circle"
         },
         "mode": "markers",
         "name": "<b>Accuracy</b> (realized Accuracy)",
         "showlegend": false,
         "type": "scatter",
         "x": [
          "2018-01-16T12:00:00",
          "2018-02-15T00:00:00",
          "2018-03-16T12:00:00",
          "2018-04-16T00:00:00",
          "2018-05-16T12:00:00",
          "2018-06-16T00:00:00",
          "2018-07-16T12:00:00",
          "2018-08-16T12:00:00",
          "2018-09-16T00:00:00",
          "2018-10-16T11:59:59.999999"
         ],
         "xaxis": "x",
         "y": [
          0.9470703125,
          0.9398918918918919,
          0.944129712834538,
          0.9442986881937437,
          0.938671875,
          0.9444893015744853,
          0.9447265625,
          0.944921875,
          0.9450948728300363,
          0.942578125,
          0.942578125
         ],
         "yaxis": "y"
        },
        {
         "hoverinfo": "skip",
         "line": {
          "color": "#3b0280",
          "dash": "dash",
          "shape": "hv",
          "width": 2
         },
         "mode": "lines",
         "name": "<b>Accuracy</b> (estimated Accuracy)",
         "showlegend": false,
         "type": "scatter",
         "x": [
          "2018-11-01T00:00:00",
          "2018-12-01T00:00:00",
          "2019-01-01T00:00:00",
          "2019-02-01T00:00:00",
          "2019-03-01T00:00:00",
          "2019-04-01T00:00:00",
          "2019-05-01T00:00:00",
          "2019-06-01T00:00:00",
          "2019-06-30T23:59:59.999999"
         ],
         "xaxis": "x",
         "y": [
          0.9419465255977544,
          0.9432507785261697,
          0.9454520325392497,
          0.9446076060174525,
          0.9437352943184848,
          0.9110491741946838,
          0.9102421286568289,
          0.9116627511384802,
          0.9116627511384802
         ],
         "yaxis": "y"
        },
        {
         "customdata": [
          [
           "<b>Accuracy</b> (estimated Accuracy)",
           "<b style=\"color:#3b0280;line-height:60px\">Analysis</b>",
           "",
           "2018-11",
           "From <b>Nov-01-2018</b> to <b>Nov-30-2018</b>",
           0.9419
          ],
          [
           "<b>Accuracy</b> (estimated Accuracy)",
           "<b style=\"color:#3b0280;line-height:60px\">Analysis</b>",
           "",
           "2018-12",
           "From <b>Dec-01-2018</b> to <b>Dec-31-2018</b>",
           0.9433
          ],
          [
           "<b>Accuracy</b> (estimated Accuracy)",
           "<b style=\"color:#3b0280;line-height:60px\">Analysis</b>",
           "",
           "2019-01",
           "From <b>Jan-01-2019</b> to <b>Jan-31-2019</b>",
           0.9455
          ],
          [
           "<b>Accuracy</b> (estimated Accuracy)",
           "<b style=\"color:#3b0280;line-height:60px\">Analysis</b>",
           "",
           "2019-02",
           "From <b>Feb-01-2019</b> to <b>Feb-28-2019</b>",
           0.9446
          ],
          [
           "<b>Accuracy</b> (estimated Accuracy)",
           "<b style=\"color:#3b0280;line-height:60px\">Analysis</b>",
           "",
           "2019-03",
           "From <b>Mar-01-2019</b> to <b>Mar-31-2019</b>",
           0.9437
          ],
          [
           "<b>Accuracy</b> (estimated Accuracy)",
           "<b style=\"color:#3b0280;line-height:60px\">Analysis</b>",
           "<span style=\"color:#AD0000\">⚠ <b>Drift detected</b></span>",
           "2019-04",
           "From <b>Apr-01-2019</b> to <b>Apr-30-2019</b>",
           0.911
          ],
          [
           "<b>Accuracy</b> (estimated Accuracy)",
           "<b style=\"color:#3b0280;line-height:60px\">Analysis</b>",
           "<span style=\"color:#AD0000\">⚠ <b>Drift detected</b></span>",
           "2019-05",
           "From <b>May-01-2019</b> to <b>May-31-2019</b>",
           0.9102
          ],
          [
           "<b>Accuracy</b> (estimated Accuracy)",
           "<b style=\"color:#3b0280;line-height:60px\">Analysis</b>",
           "<span style=\"color:#AD0000\">⚠ <b>Drift detected</b></span>",
           "2019-06",
           "From <b>Jun-01-2019</b> to <b>Jun-30-2019</b>",
           0.9117
          ]
         ],
         "hovertemplate": "%{customdata[1]} &nbsp; &nbsp; %{customdata[2]} <br />Chunk: <b>%{customdata[3]}</b> &nbsp; &nbsp; %{customdata[4]} <br />%{customdata[0]}: <b>%{customdata[5]}</b><br /><extra></extra>",
         "line": {
          "dash": "dash"
         },
         "marker": {
          "color": "#3b0280",
          "size": 5,
          "symbol": "circle"
         },
         "mode": "markers",
         "name": "<b>Accuracy</b> (estimated Accuracy)",
         "showlegend": false,
         "type": "scatter",
         "x": [
          "2018-11-16T00:00:00",
          "2018-12-16T12:00:00",
          "2019-01-16T12:00:00",
          "2019-02-15T00:00:00",
          "2019-03-16T12:00:00",
          "2019-04-16T00:00:00",
          "2019-05-16T12:00:00",
          "2019-06-15T23:59:59.999999"
         ],
         "xaxis": "x",
         "y": [
          0.9419465255977544,
          0.9432507785261697,
          0.9454520325392497,
          0.9446076060174525,
          0.9437352943184848,
          0.9110491741946838,
          0.9102421286568289,
          0.9116627511384802,
          0.9116627511384802
         ],
         "yaxis": "y"
        },
        {
         "connectgaps": true,
         "hoverinfo": "skip",
         "line": {
          "color": "rgba(0,0,0,0)",
          "shape": "hv"
         },
         "mode": "lines",
         "name": "Confidence band",
         "showlegend": false,
         "type": "scatter",
         "x": [
          "2018-11-01T00:00:00",
          "2018-12-01T00:00:00",
          "2019-01-01T00:00:00",
          "2019-02-01T00:00:00",
          "2019-03-01T00:00:00",
          "2019-04-01T00:00:00",
          "2019-05-01T00:00:00",
          "2019-06-01T00:00:00",
          "2019-06-30T23:59:59.999999"
         ],
         "xaxis": "x",
         "y": [
          0.9517772219761402,
          0.952922717502289,
          0.9551230269439545,
          0.9547840770287185,
          0.9534062887231896,
          0.9208798705730696,
          0.9199140676329481,
          0.9214934475168659,
          0.9214934475168659
         ],
         "yaxis": "y"
        },
        {
         "connectgaps": true,
         "fill": "tonexty",
         "fillcolor": "rgba(0.23137254901960785, 0.00784313725490196, 0.5019607843137255, 0.2)",
         "hoverinfo": "skip",
         "line": {
          "color": "rgba(0,0,0,0)",
          "shape": "hv"
         },
         "mode": "lines",
         "name": "Confidence band",
         "showlegend": false,
         "type": "scatter",
         "x": [
          "2018-11-01T00:00:00",
          "2018-12-01T00:00:00",
          "2019-01-01T00:00:00",
          "2019-02-01T00:00:00",
          "2019-03-01T00:00:00",
          "2019-04-01T00:00:00",
          "2019-05-01T00:00:00",
          "2019-06-01T00:00:00",
          "2019-06-30T23:59:59.999999"
         ],
         "xaxis": "x",
         "y": [
          0.9321158292193685,
          0.9335788395500504,
          0.9357810381345449,
          0.9344311350061866,
          0.93406429991378,
          0.9012184778162979,
          0.9005701896807096,
          0.9018320547600944,
          0.9018320547600944
         ],
         "yaxis": "y"
        },
        {
         "hoverinfo": "skip",
         "line": {
          "color": "#00c8e5",
          "shape": "hv",
          "width": 2
         },
         "mode": "lines",
         "name": "<b>Accuracy</b> (realized Accuracy)",
         "showlegend": false,
         "type": "scatter",
         "x": [
          "2018-11-01T00:00:00",
          "2018-12-01T00:00:00",
          "2019-01-01T00:00:00",
          "2019-02-01T00:00:00",
          "2019-03-01T00:00:00",
          "2019-04-01T00:00:00",
          "2019-05-01T00:00:00",
          "2019-06-01T00:00:00",
          "2019-06-30T23:59:59.999999"
         ],
         "xaxis": "x",
         "y": [
          0.9426841574167507,
          0.9410041023637429,
          0.9517578125,
          0.9431228373702422,
          0.9400390625,
          0.9146316851664985,
          0.9154131666341082,
          0.9142280524722503,
          0.9142280524722503
         ],
         "yaxis": "y"
        },
        {
         "customdata": [
          [
           "<b>Accuracy</b>",
           "<b style=\"color:#00c8e5;line-height:60px\">Analysis</b>",
           "",
           "2018-11",
           "From <b>Nov-01-2018</b> to <b>Nov-30-2018</b>",
           0.9427
          ],
          [
           "<b>Accuracy</b>",
           "<b style=\"color:#00c8e5;line-height:60px\">Analysis</b>",
           "",
           "2018-12",
           "From <b>Dec-01-2018</b> to <b>Dec-31-2018</b>",
           0.941
          ],
          [
           "<b>Accuracy</b>",
           "<b style=\"color:#00c8e5;line-height:60px\">Analysis</b>",
           "<span style=\"color:#AD0000\">⚠ <b>Drift detected</b></span>",
           "2019-01",
           "From <b>Jan-01-2019</b> to <b>Jan-31-2019</b>",
           0.9518
          ],
          [
           "<b>Accuracy</b>",
           "<b style=\"color:#00c8e5;line-height:60px\">Analysis</b>",
           "",
           "2019-02",
           "From <b>Feb-01-2019</b> to <b>Feb-28-2019</b>",
           0.9431
          ],
          [
           "<b>Accuracy</b>",
           "<b style=\"color:#00c8e5;line-height:60px\">Analysis</b>",
           "",
           "2019-03",
           "From <b>Mar-01-2019</b> to <b>Mar-31-2019</b>",
           0.94
          ],
          [
           "<b>Accuracy</b>",
           "<b style=\"color:#00c8e5;line-height:60px\">Analysis</b>",
           "<span style=\"color:#AD0000\">⚠ <b>Drift detected</b></span>",
           "2019-04",
           "From <b>Apr-01-2019</b> to <b>Apr-30-2019</b>",
           0.9146
          ],
          [
           "<b>Accuracy</b>",
           "<b style=\"color:#00c8e5;line-height:60px\">Analysis</b>",
           "<span style=\"color:#AD0000\">⚠ <b>Drift detected</b></span>",
           "2019-05",
           "From <b>May-01-2019</b> to <b>May-31-2019</b>",
           0.9154
          ],
          [
           "<b>Accuracy</b>",
           "<b style=\"color:#00c8e5;line-height:60px\">Analysis</b>",
           "<span style=\"color:#AD0000\">⚠ <b>Drift detected</b></span>",
           "2019-06",
           "From <b>Jun-01-2019</b> to <b>Jun-30-2019</b>",
           0.9142
          ]
         ],
         "hovertemplate": "%{customdata[1]} &nbsp; &nbsp; %{customdata[2]} <br />Chunk: <b>%{customdata[3]}</b> &nbsp; &nbsp; %{customdata[4]} <br />%{customdata[0]}: <b>%{customdata[5]}</b><br /><extra></extra>",
         "marker": {
          "color": "#00c8e5",
          "size": 5,
          "symbol": "circle"
         },
         "mode": "markers",
         "name": "<b>Accuracy</b> (realized Accuracy)",
         "showlegend": false,
         "type": "scatter",
         "x": [
          "2018-11-16T00:00:00",
          "2018-12-16T12:00:00",
          "2019-01-16T12:00:00",
          "2019-02-15T00:00:00",
          "2019-03-16T12:00:00",
          "2019-04-16T00:00:00",
          "2019-05-16T12:00:00",
          "2019-06-15T23:59:59.999999"
         ],
         "xaxis": "x",
         "y": [
          0.9426841574167507,
          0.9410041023637429,
          0.9517578125,
          0.9431228373702422,
          0.9400390625,
          0.9146316851664985,
          0.9154131666341082,
          0.9142280524722503,
          0.9142280524722503
         ],
         "yaxis": "y"
        },
        {
         "hoverinfo": "skip",
         "legendgroup": "alert",
         "marker": {
          "color": "#DD4040",
          "size": 8,
          "symbol": "diamond"
         },
         "mode": "markers",
         "name": "Alert",
         "showlegend": true,
         "type": "scatter",
         "x": [
          "2019-04-16T00:00:00",
          "2019-05-16T12:00:00",
          "2019-06-15T23:59:59.999999"
         ],
         "xaxis": "x",
         "y": [
          0.9110491741946838,
          0.9102421286568289,
          0.9116627511384802
         ],
         "yaxis": "y"
        },
        {
         "hoverinfo": "skip",
         "legendgroup": "alert",
         "marker": {
          "color": "#DD4040",
          "size": 8,
          "symbol": "diamond"
         },
         "mode": "markers",
         "name": "Alert",
         "showlegend": false,
         "type": "scatter",
         "x": [
          "2019-01-16T12:00:00",
          "2019-04-16T00:00:00",
          "2019-05-16T12:00:00",
          "2019-06-15T23:59:59.999999"
         ],
         "xaxis": "x",
         "y": [
          0.9517578125,
          0.9146316851664985,
          0.9154131666341082,
          0.9142280524722503
         ],
         "yaxis": "y"
        }
       ],
       "layout": {
        "annotations": [
         {
          "font": {
           "size": 16
          },
          "showarrow": false,
          "text": "<b>Accuracy</b> (estimated Accuracy) vs. <b>Accuracy</b> (realized Accuracy)",
          "x": 0.47,
          "xanchor": "center",
          "xref": "paper",
          "y": 1,
          "yanchor": "bottom",
          "yref": "paper"
         },
         {
          "showarrow": false,
          "text": "Reference",
          "x": "2018-05-17T00:00:00",
          "xshift": 10,
          "y": 1,
          "yref": "paper"
         },
         {
          "showarrow": false,
          "text": "Analysis",
          "x": "2019-02-14T21:00:00",
          "xshift": 15,
          "y": 1,
          "yref": "paper"
         }
        ],
        "height": 500,
        "hoverlabel": {
         "bgcolor": "white",
         "font": {
          "size": 14
         }
        },
        "legend": {
         "itemclick": false,
         "itemdoubleclick": false,
         "traceorder": "grouped"
        },
        "paper_bgcolor": "rgba(255,255,255,1)",
        "plot_bgcolor": "rgba(255,255,255,1)",
        "shapes": [
         {
          "layer": "below",
          "line": {
           "color": "#666666",
           "width": 1
          },
          "type": "line",
          "x0": "2018-11-01T00:00:00",
          "x1": "2018-11-01T00:00:00",
          "xref": "x",
          "y0": 0,
          "y1": 1,
          "yref": "y domain"
         }
        ],
        "template": {
         "data": {
          "bar": [
           {
            "error_x": {
             "color": "#2a3f5f"
            },
            "error_y": {
             "color": "#2a3f5f"
            },
            "marker": {
             "line": {
              "color": "white",
              "width": 0.5
             },
             "pattern": {
              "fillmode": "overlay",
              "size": 10,
              "solidity": 0.2
             }
            },
            "type": "bar"
           }
          ],
          "barpolar": [
           {
            "marker": {
             "line": {
              "color": "white",
              "width": 0.5
             },
             "pattern": {
              "fillmode": "overlay",
              "size": 10,
              "solidity": 0.2
             }
            },
            "type": "barpolar"
           }
          ],
          "carpet": [
           {
            "aaxis": {
             "endlinecolor": "#2a3f5f",
             "gridcolor": "#C8D4E3",
             "linecolor": "#C8D4E3",
             "minorgridcolor": "#C8D4E3",
             "startlinecolor": "#2a3f5f"
            },
            "baxis": {
             "endlinecolor": "#2a3f5f",
             "gridcolor": "#C8D4E3",
             "linecolor": "#C8D4E3",
             "minorgridcolor": "#C8D4E3",
             "startlinecolor": "#2a3f5f"
            },
            "type": "carpet"
           }
          ],
          "choropleth": [
           {
            "colorbar": {
             "outlinewidth": 0,
             "ticks": ""
            },
            "type": "choropleth"
           }
          ],
          "contour": [
           {
            "colorbar": {
             "outlinewidth": 0,
             "ticks": ""
            },
            "colorscale": [
             [
              0,
              "#0d0887"
             ],
             [
              0.1111111111111111,
              "#46039f"
             ],
             [
              0.2222222222222222,
              "#7201a8"
             ],
             [
              0.3333333333333333,
              "#9c179e"
             ],
             [
              0.4444444444444444,
              "#bd3786"
             ],
             [
              0.5555555555555556,
              "#d8576b"
             ],
             [
              0.6666666666666666,
              "#ed7953"
             ],
             [
              0.7777777777777778,
              "#fb9f3a"
             ],
             [
              0.8888888888888888,
              "#fdca26"
             ],
             [
              1,
              "#f0f921"
             ]
            ],
            "type": "contour"
           }
          ],
          "contourcarpet": [
           {
            "colorbar": {
             "outlinewidth": 0,
             "ticks": ""
            },
            "type": "contourcarpet"
           }
          ],
          "heatmap": [
           {
            "colorbar": {
             "outlinewidth": 0,
             "ticks": ""
            },
            "colorscale": [
             [
              0,
              "#0d0887"
             ],
             [
              0.1111111111111111,
              "#46039f"
             ],
             [
              0.2222222222222222,
              "#7201a8"
             ],
             [
              0.3333333333333333,
              "#9c179e"
             ],
             [
              0.4444444444444444,
              "#bd3786"
             ],
             [
              0.5555555555555556,
              "#d8576b"
             ],
             [
              0.6666666666666666,
              "#ed7953"
             ],
             [
              0.7777777777777778,
              "#fb9f3a"
             ],
             [
              0.8888888888888888,
              "#fdca26"
             ],
             [
              1,
              "#f0f921"
             ]
            ],
            "type": "heatmap"
           }
          ],
          "heatmapgl": [
           {
            "colorbar": {
             "outlinewidth": 0,
             "ticks": ""
            },
            "colorscale": [
             [
              0,
              "#0d0887"
             ],
             [
              0.1111111111111111,
              "#46039f"
             ],
             [
              0.2222222222222222,
              "#7201a8"
             ],
             [
              0.3333333333333333,
              "#9c179e"
             ],
             [
              0.4444444444444444,
              "#bd3786"
             ],
             [
              0.5555555555555556,
              "#d8576b"
             ],
             [
              0.6666666666666666,
              "#ed7953"
             ],
             [
              0.7777777777777778,
              "#fb9f3a"
             ],
             [
              0.8888888888888888,
              "#fdca26"
             ],
             [
              1,
              "#f0f921"
             ]
            ],
            "type": "heatmapgl"
           }
          ],
          "histogram": [
           {
            "marker": {
             "pattern": {
              "fillmode": "overlay",
              "size": 10,
              "solidity": 0.2
             }
            },
            "type": "histogram"
           }
          ],
          "histogram2d": [
           {
            "colorbar": {
             "outlinewidth": 0,
             "ticks": ""
            },
            "colorscale": [
             [
              0,
              "#0d0887"
             ],
             [
              0.1111111111111111,
              "#46039f"
             ],
             [
              0.2222222222222222,
              "#7201a8"
             ],
             [
              0.3333333333333333,
              "#9c179e"
             ],
             [
              0.4444444444444444,
              "#bd3786"
             ],
             [
              0.5555555555555556,
              "#d8576b"
             ],
             [
              0.6666666666666666,
              "#ed7953"
             ],
             [
              0.7777777777777778,
              "#fb9f3a"
             ],
             [
              0.8888888888888888,
              "#fdca26"
             ],
             [
              1,
              "#f0f921"
             ]
            ],
            "type": "histogram2d"
           }
          ],
          "histogram2dcontour": [
           {
            "colorbar": {
             "outlinewidth": 0,
             "ticks": ""
            },
            "colorscale": [
             [
              0,
              "#0d0887"
             ],
             [
              0.1111111111111111,
              "#46039f"
             ],
             [
              0.2222222222222222,
              "#7201a8"
             ],
             [
              0.3333333333333333,
              "#9c179e"
             ],
             [
              0.4444444444444444,
              "#bd3786"
             ],
             [
              0.5555555555555556,
              "#d8576b"
             ],
             [
              0.6666666666666666,
              "#ed7953"
             ],
             [
              0.7777777777777778,
              "#fb9f3a"
             ],
             [
              0.8888888888888888,
              "#fdca26"
             ],
             [
              1,
              "#f0f921"
             ]
            ],
            "type": "histogram2dcontour"
           }
          ],
          "mesh3d": [
           {
            "colorbar": {
             "outlinewidth": 0,
             "ticks": ""
            },
            "type": "mesh3d"
           }
          ],
          "parcoords": [
           {
            "line": {
             "colorbar": {
              "outlinewidth": 0,
              "ticks": ""
             }
            },
            "type": "parcoords"
           }
          ],
          "pie": [
           {
            "automargin": true,
            "type": "pie"
           }
          ],
          "scatter": [
           {
            "fillpattern": {
             "fillmode": "overlay",
             "size": 10,
             "solidity": 0.2
            },
            "type": "scatter"
           }
          ],
          "scatter3d": [
           {
            "line": {
             "colorbar": {
              "outlinewidth": 0,
              "ticks": ""
             }
            },
            "marker": {
             "colorbar": {
              "outlinewidth": 0,
              "ticks": ""
             }
            },
            "type": "scatter3d"
           }
          ],
          "scattercarpet": [
           {
            "marker": {
             "colorbar": {
              "outlinewidth": 0,
              "ticks": ""
             }
            },
            "type": "scattercarpet"
           }
          ],
          "scattergeo": [
           {
            "marker": {
             "colorbar": {
              "outlinewidth": 0,
              "ticks": ""
             }
            },
            "type": "scattergeo"
           }
          ],
          "scattergl": [
           {
            "marker": {
             "colorbar": {
              "outlinewidth": 0,
              "ticks": ""
             }
            },
            "type": "scattergl"
           }
          ],
          "scattermapbox": [
           {
            "marker": {
             "colorbar": {
              "outlinewidth": 0,
              "ticks": ""
             }
            },
            "type": "scattermapbox"
           }
          ],
          "scatterpolar": [
           {
            "marker": {
             "colorbar": {
              "outlinewidth": 0,
              "ticks": ""
             }
            },
            "type": "scatterpolar"
           }
          ],
          "scatterpolargl": [
           {
            "marker": {
             "colorbar": {
              "outlinewidth": 0,
              "ticks": ""
             }
            },
            "type": "scatterpolargl"
           }
          ],
          "scatterternary": [
           {
            "marker": {
             "colorbar": {
              "outlinewidth": 0,
              "ticks": ""
             }
            },
            "type": "scatterternary"
           }
          ],
          "surface": [
           {
            "colorbar": {
             "outlinewidth": 0,
             "ticks": ""
            },
            "colorscale": [
             [
              0,
              "#0d0887"
             ],
             [
              0.1111111111111111,
              "#46039f"
             ],
             [
              0.2222222222222222,
              "#7201a8"
             ],
             [
              0.3333333333333333,
              "#9c179e"
             ],
             [
              0.4444444444444444,
              "#bd3786"
             ],
             [
              0.5555555555555556,
              "#d8576b"
             ],
             [
              0.6666666666666666,
              "#ed7953"
             ],
             [
              0.7777777777777778,
              "#fb9f3a"
             ],
             [
              0.8888888888888888,
              "#fdca26"
             ],
             [
              1,
              "#f0f921"
             ]
            ],
            "type": "surface"
           }
          ],
          "table": [
           {
            "cells": {
             "fill": {
              "color": "#EBF0F8"
             },
             "line": {
              "color": "white"
             }
            },
            "header": {
             "fill": {
              "color": "#C8D4E3"
             },
             "line": {
              "color": "white"
             }
            },
            "type": "table"
           }
          ]
         },
         "layout": {
          "annotationdefaults": {
           "arrowcolor": "#2a3f5f",
           "arrowhead": 0,
           "arrowwidth": 1
          },
          "autotypenumbers": "strict",
          "coloraxis": {
           "colorbar": {
            "outlinewidth": 0,
            "ticks": ""
           }
          },
          "colorscale": {
           "diverging": [
            [
             0,
             "#8e0152"
            ],
            [
             0.1,
             "#c51b7d"
            ],
            [
             0.2,
             "#de77ae"
            ],
            [
             0.3,
             "#f1b6da"
            ],
            [
             0.4,
             "#fde0ef"
            ],
            [
             0.5,
             "#f7f7f7"
            ],
            [
             0.6,
             "#e6f5d0"
            ],
            [
             0.7,
             "#b8e186"
            ],
            [
             0.8,
             "#7fbc41"
            ],
            [
             0.9,
             "#4d9221"
            ],
            [
             1,
             "#276419"
            ]
           ],
           "sequential": [
            [
             0,
             "#0d0887"
            ],
            [
             0.1111111111111111,
             "#46039f"
            ],
            [
             0.2222222222222222,
             "#7201a8"
            ],
            [
             0.3333333333333333,
             "#9c179e"
            ],
            [
             0.4444444444444444,
             "#bd3786"
            ],
            [
             0.5555555555555556,
             "#d8576b"
            ],
            [
             0.6666666666666666,
             "#ed7953"
            ],
            [
             0.7777777777777778,
             "#fb9f3a"
            ],
            [
             0.8888888888888888,
             "#fdca26"
            ],
            [
             1,
             "#f0f921"
            ]
           ],
           "sequentialminus": [
            [
             0,
             "#0d0887"
            ],
            [
             0.1111111111111111,
             "#46039f"
            ],
            [
             0.2222222222222222,
             "#7201a8"
            ],
            [
             0.3333333333333333,
             "#9c179e"
            ],
            [
             0.4444444444444444,
             "#bd3786"
            ],
            [
             0.5555555555555556,
             "#d8576b"
            ],
            [
             0.6666666666666666,
             "#ed7953"
            ],
            [
             0.7777777777777778,
             "#fb9f3a"
            ],
            [
             0.8888888888888888,
             "#fdca26"
            ],
            [
             1,
             "#f0f921"
            ]
           ]
          },
          "colorway": [
           "#6568a0",
           "#43d7a4",
           "#4095db",
           "#facc5f",
           "#cae279",
           "#7db64f",
           "#f08083",
           "#5bcdf2",
           "#f099dc",
           "#965858"
          ],
          "font": {
           "color": "#05192D",
           "family": "Studio-Feixen-Sans, Arial, sans-serif"
          },
          "geo": {
           "bgcolor": "white",
           "lakecolor": "white",
           "landcolor": "white",
           "showlakes": true,
           "showland": true,
           "subunitcolor": "#C8D4E3"
          },
          "hoverlabel": {
           "align": "left",
           "font": {
            "family": "Studio-Feixen-Sans, Arial, sans-serif"
           }
          },
          "hovermode": "closest",
          "mapbox": {
           "style": "light"
          },
          "paper_bgcolor": "white",
          "plot_bgcolor": "white",
          "polar": {
           "angularaxis": {
            "gridcolor": "#EBF0F8",
            "linecolor": "#EBF0F8",
            "ticks": ""
           },
           "bgcolor": "white",
           "radialaxis": {
            "gridcolor": "#EBF0F8",
            "linecolor": "#EBF0F8",
            "ticks": ""
           }
          },
          "scene": {
           "xaxis": {
            "backgroundcolor": "white",
            "gridcolor": "#DFE8F3",
            "gridwidth": 2,
            "linecolor": "#EBF0F8",
            "showbackground": true,
            "ticks": "",
            "zerolinecolor": "#EBF0F8"
           },
           "yaxis": {
            "backgroundcolor": "white",
            "gridcolor": "#DFE8F3",
            "gridwidth": 2,
            "linecolor": "#EBF0F8",
            "showbackground": true,
            "ticks": "",
            "zerolinecolor": "#EBF0F8"
           },
           "zaxis": {
            "backgroundcolor": "white",
            "gridcolor": "#DFE8F3",
            "gridwidth": 2,
            "linecolor": "#EBF0F8",
            "showbackground": true,
            "ticks": "",
            "zerolinecolor": "#EBF0F8"
           }
          },
          "shapedefaults": {
           "line": {
            "color": "#2a3f5f"
           }
          },
          "ternary": {
           "aaxis": {
            "gridcolor": "#DFE8F3",
            "linecolor": "#A2B1C6",
            "ticks": ""
           },
           "baxis": {
            "gridcolor": "#DFE8F3",
            "linecolor": "#A2B1C6",
            "ticks": ""
           },
           "bgcolor": "white",
           "caxis": {
            "gridcolor": "#DFE8F3",
            "linecolor": "#A2B1C6",
            "ticks": ""
           }
          },
          "title": {
           "x": 0.05
          },
          "xaxis": {
           "automargin": true,
           "gridcolor": "#EBF0F8",
           "linecolor": "#EBF0F8",
           "ticks": "",
           "title": {
            "standoff": 15
           },
           "zerolinecolor": "#EBF0F8",
           "zerolinewidth": 2
          },
          "yaxis": {
           "automargin": true,
           "gridcolor": "#EBF0F8",
           "linecolor": "#EBF0F8",
           "ticks": "",
           "title": {
            "standoff": 15
           },
           "zerolinecolor": "#EBF0F8",
           "zerolinewidth": 2
          }
         }
        },
        "title": {
         "text": "<b>Estimated performance (CBPE)</b> vs. <b>Realized performance</b>"
        },
        "xaxis": {
         "anchor": "y",
         "domain": [
          0,
          0.94
         ],
         "linecolor": "#3b0280",
         "matches": "x",
         "mirror": true,
         "showgrid": false,
         "title": {
          "text": "Time"
         },
         "zeroline": false
        },
        "yaxis": {
         "anchor": "x",
         "domain": [
          0,
          1
         ],
         "linecolor": "#3b0280",
         "mirror": true,
         "showgrid": false,
         "title": {
          "text": "<b>Accuracy</b>"
         },
         "zeroline": false
        },
        "yaxis2": {
         "anchor": "x",
         "linecolor": "#3b0280",
         "mirror": true,
         "overlaying": "y",
         "showgrid": false,
         "side": "right",
         "title": {
          "text": "Comparison"
         },
         "zeroline": false
        }
       }
      }
     },
     "metadata": {},
     "output_type": "display_data"
    },
    {
     "name": "stdout",
     "output_type": "stream",
     "text": [
      "months_with_performance_alerts: ['april_2019', 'may_2019', 'june_2019']\n"
     ]
    },
    {
     "data": {
      "application/com.datacamp.data-table.v2+json": {
       "table": {
        "data": {
         "column_name": [
          "time_since_login_min",
          "transaction_amount",
          "is_first_transaction",
          "user_tenure_months",
          "transaction_type"
         ],
         "has_drifted": [
          true,
          true,
          true,
          true,
          true
         ],
         "index": [
          0,
          1,
          2,
          3,
          4
         ],
         "pearsonr_correlation": [
          0.9529249412,
          0.6262351891,
          0.0542546773,
          -0.1005468988,
          -0.186568833
         ],
         "pearsonr_pvalue": [
          1e-09,
          0.0054277118,
          0.8306916126,
          0.691391104,
          0.458532806
         ],
         "rank": [
          1,
          2,
          3,
          4,
          5
         ]
        },
        "schema": {
         "fields": [
          {
           "name": "index",
           "type": "integer"
          },
          {
           "name": "column_name",
           "type": "string"
          },
          {
           "name": "pearsonr_correlation",
           "type": "number"
          },
          {
           "name": "pearsonr_pvalue",
           "type": "number"
          },
          {
           "name": "has_drifted",
           "type": "boolean"
          },
          {
           "name": "rank",
           "type": "integer"
          }
         ],
         "pandas_version": "1.4.0",
         "primaryKey": [
          "index"
         ]
        }
       },
       "total_rows": 5,
       "truncation_type": null
      },
      "text/html": [
       "<div>\n",
       "<style scoped>\n",
       "    .dataframe tbody tr th:only-of-type {\n",
       "        vertical-align: middle;\n",
       "    }\n",
       "\n",
       "    .dataframe tbody tr th {\n",
       "        vertical-align: top;\n",
       "    }\n",
       "\n",
       "    .dataframe thead th {\n",
       "        text-align: right;\n",
       "    }\n",
       "</style>\n",
       "<table border=\"1\" class=\"dataframe\">\n",
       "  <thead>\n",
       "    <tr style=\"text-align: right;\">\n",
       "      <th></th>\n",
       "      <th>column_name</th>\n",
       "      <th>pearsonr_correlation</th>\n",
       "      <th>pearsonr_pvalue</th>\n",
       "      <th>has_drifted</th>\n",
       "      <th>rank</th>\n",
       "    </tr>\n",
       "  </thead>\n",
       "  <tbody>\n",
       "    <tr>\n",
       "      <th>0</th>\n",
       "      <td>time_since_login_min</td>\n",
       "      <td>0.952925</td>\n",
       "      <td>1.045775e-09</td>\n",
       "      <td>True</td>\n",
       "      <td>1</td>\n",
       "    </tr>\n",
       "    <tr>\n",
       "      <th>1</th>\n",
       "      <td>transaction_amount</td>\n",
       "      <td>0.626235</td>\n",
       "      <td>5.427712e-03</td>\n",
       "      <td>True</td>\n",
       "      <td>2</td>\n",
       "    </tr>\n",
       "    <tr>\n",
       "      <th>2</th>\n",
       "      <td>is_first_transaction</td>\n",
       "      <td>0.054255</td>\n",
       "      <td>8.306916e-01</td>\n",
       "      <td>True</td>\n",
       "      <td>3</td>\n",
       "    </tr>\n",
       "    <tr>\n",
       "      <th>3</th>\n",
       "      <td>user_tenure_months</td>\n",
       "      <td>-0.100547</td>\n",
       "      <td>6.913911e-01</td>\n",
       "      <td>True</td>\n",
       "      <td>4</td>\n",
       "    </tr>\n",
       "    <tr>\n",
       "      <th>4</th>\n",
       "      <td>transaction_type</td>\n",
       "      <td>-0.186569</td>\n",
       "      <td>4.585328e-01</td>\n",
       "      <td>True</td>\n",
       "      <td>5</td>\n",
       "    </tr>\n",
       "  </tbody>\n",
       "</table>\n",
       "</div>"
      ],
      "text/plain": [
       "            column_name  pearsonr_correlation  ...  has_drifted  rank\n",
       "0  time_since_login_min              0.952925  ...         True     1\n",
       "1    transaction_amount              0.626235  ...         True     2\n",
       "2  is_first_transaction              0.054255  ...         True     3\n",
       "3    user_tenure_months             -0.100547  ...         True     4\n",
       "4      transaction_type             -0.186569  ...         True     5\n",
       "\n",
       "[5 rows x 5 columns]"
      ]
     },
     "metadata": {},
     "output_type": "display_data"
    },
    {
     "name": "stdout",
     "output_type": "stream",
     "text": [
      "highest_correlation_feature: time_since_login_min\n"
     ]
    },
    {
     "data": {
      "application/vnd.plotly.v1+json": {
       "config": {
        "displaylogo": false,
        "plotlyServerURL": "https://plot.ly",
        "toImageButtonOptions": {
         "filename": "DataLab plot",
         "format": "png",
         "height": 500,
         "scale": 2,
         "width": 700
        }
       },
       "data": [
        {
         "hoverinfo": "skip",
         "legendgroup": "metric_reference",
         "line": {
          "color": "#00c8e5",
          "shape": "hv",
          "width": 2
         },
         "mode": "lines",
         "name": "Metric",
         "showlegend": true,
         "type": "scatter",
         "x": [
          "2018-01-01T00:00:00",
          "2018-02-01T00:00:00",
          "2018-03-01T00:00:00",
          "2018-04-01T00:00:00",
          "2018-05-01T00:00:00",
          "2018-06-01T00:00:00",
          "2018-07-01T00:00:00",
          "2018-08-01T00:00:00",
          "2018-09-01T00:00:00",
          "2018-10-01T00:00:00",
          "2018-10-31T23:59:59.999999"
         ],
         "xaxis": "x",
         "y": [
          2968.14541015625,
          2974.40892972973,
          2940.6434264504783,
          2956.591099899092,
          2942.334296875,
          2993.209850625757,
          2987.6364453124997,
          2978.0992968749997,
          2970.678259991926,
          2937.47873046875,
          2937.47873046875
         ],
         "yaxis": "y"
        },
        {
         "customdata": [
          [
           "Values Avg for <b>transaction_amount</b>",
           "<b style=\"color:#00c8e5;line-height:60px\">Reference</b>",
           "",
           "2018-01",
           "From <b>Jan-01-2018</b> to <b>Jan-31-2018</b>",
           2968.1454,
           85.502
          ],
          [
           "Values Avg for <b>transaction_amount</b>",
           "<b style=\"color:#00c8e5;line-height:60px\">Reference</b>",
           "",
           "2018-02",
           "From <b>Feb-01-2018</b> to <b>Feb-28-2018</b>",
           2974.4089,
           89.9612
          ],
          [
           "Values Avg for <b>transaction_amount</b>",
           "<b style=\"color:#00c8e5;line-height:60px\">Reference</b>",
           "",
           "2018-03",
           "From <b>Mar-01-2018</b> to <b>Mar-31-2018</b>",
           2940.6434,
           85.5103
          ],
          [
           "Values Avg for <b>transaction_amount</b>",
           "<b style=\"color:#00c8e5;line-height:60px\">Reference</b>",
           "",
           "2018-04",
           "From <b>Apr-01-2018</b> to <b>Apr-30-2018</b>",
           2956.5911,
           86.9139
          ],
          [
           "Values Avg for <b>transaction_amount</b>",
           "<b style=\"color:#00c8e5;line-height:60px\">Reference</b>",
           "",
           "2018-05",
           "From <b>May-01-2018</b> to <b>May-31-2018</b>",
           2942.3343,
           85.502
          ],
          [
           "Values Avg for <b>transaction_amount</b>",
           "<b style=\"color:#00c8e5;line-height:60px\">Reference</b>",
           "",
           "2018-06",
           "From <b>Jun-01-2018</b> to <b>Jun-30-2018</b>",
           2993.2099,
           86.9227
          ],
          [
           "Values Avg for <b>transaction_amount</b>",
           "<b style=\"color:#00c8e5;line-height:60px\">Reference</b>",
           "",
           "2018-07",
           "From <b>Jul-01-2018</b> to <b>Jul-31-2018</b>",
           2987.6364,
           85.502
          ],
          [
           "Values Avg for <b>transaction_amount</b>",
           "<b style=\"color:#00c8e5;line-height:60px\">Reference</b>",
           "",
           "2018-08",
           "From <b>Aug-01-2018</b> to <b>Aug-31-2018</b>",
           2978.0993,
           85.502
          ],
          [
           "Values Avg for <b>transaction_amount</b>",
           "<b style=\"color:#00c8e5;line-height:60px\">Reference</b>",
           "",
           "2018-09",
           "From <b>Sep-01-2018</b> to <b>Sep-30-2018</b>",
           2970.6783,
           86.9227
          ],
          [
           "Values Avg for <b>transaction_amount</b>",
           "<b style=\"color:#00c8e5;line-height:60px\">Reference</b>",
           "",
           "2018-10",
           "From <b>Oct-01-2018</b> to <b>Oct-31-2018</b>",
           2937.4787,
           85.502
          ]
         ],
         "hovertemplate": "%{customdata[1]} &nbsp; &nbsp; %{customdata[2]} <br />Chunk: <b>%{customdata[3]}</b> &nbsp; &nbsp; %{customdata[4]} <br />%{customdata[0]}: <b>%{customdata[5]}</b><br />Confidence band: +/- <b>%{customdata[6]}</b><br /><extra></extra>",
         "legendgroup": "metric_reference",
         "marker": {
          "color": "#00c8e5",
          "size": 5,
          "symbol": "circle"
         },
         "mode": "markers",
         "name": "Metric",
         "showlegend": false,
         "type": "scatter",
         "x": [
          "2018-01-16T12:00:00",
          "2018-02-15T00:00:00",
          "2018-03-16T12:00:00",
          "2018-04-16T00:00:00",
          "2018-05-16T12:00:00",
          "2018-06-16T00:00:00",
          "2018-07-16T12:00:00",
          "2018-08-16T12:00:00",
          "2018-09-16T00:00:00",
          "2018-10-16T11:59:59.999999"
         ],
         "xaxis": "x",
         "y": [
          2968.14541015625,
          2974.40892972973,
          2940.6434264504783,
          2956.591099899092,
          2942.334296875,
          2993.209850625757,
          2987.6364453124997,
          2978.0992968749997,
          2970.678259991926,
          2937.47873046875,
          2937.47873046875
         ],
         "yaxis": "y"
        },
        {
         "hoverinfo": "skip",
         "legendgroup": "metric_analysis",
         "line": {
          "color": "#00c8e5",
          "shape": "hv",
          "width": 2
         },
         "mode": "lines",
         "name": "Metric",
         "showlegend": false,
         "type": "scatter",
         "x": [
          "2018-11-01T00:00:00",
          "2018-12-01T00:00:00",
          "2019-01-01T00:00:00",
          "2019-02-01T00:00:00",
          "2019-03-01T00:00:00",
          "2019-04-01T00:00:00",
          "2019-05-01T00:00:00",
          "2019-06-01T00:00:00",
          "2019-06-30T23:59:59.999999"
         ],
         "xaxis": "x",
         "y": [
          2994.880060544904,
          2979.1827700722797,
          2993.9794140625,
          3000.1461937716263,
          2968.66978515625,
          2923.6365287588296,
          2996.924907208439,
          3069.8183551967713,
          3069.8183551967713
         ],
         "yaxis": "y"
        },
        {
         "customdata": [
          [
           "Values Avg for <b>transaction_amount</b>",
           "<b style=\"color:#3b0280;line-height:60px\">Analysis</b>",
           "",
           "2018-11",
           "From <b>Nov-01-2018</b> to <b>Nov-30-2018</b>",
           2994.8801,
           86.9139
          ],
          [
           "Values Avg for <b>transaction_amount</b>",
           "<b style=\"color:#3b0280;line-height:60px\">Analysis</b>",
           "",
           "2018-12",
           "From <b>Dec-01-2018</b> to <b>Dec-31-2018</b>",
           2979.1828,
           85.5103
          ],
          [
           "Values Avg for <b>transaction_amount</b>",
           "<b style=\"color:#3b0280;line-height:60px\">Analysis</b>",
           "",
           "2019-01",
           "From <b>Jan-01-2019</b> to <b>Jan-31-2019</b>",
           2993.9794,
           85.502
          ],
          [
           "Values Avg for <b>transaction_amount</b>",
           "<b style=\"color:#3b0280;line-height:60px\">Analysis</b>",
           "",
           "2019-02",
           "From <b>Feb-01-2019</b> to <b>Feb-28-2019</b>",
           3000.1462,
           89.9709
          ],
          [
           "Values Avg for <b>transaction_amount</b>",
           "<b style=\"color:#3b0280;line-height:60px\">Analysis</b>",
           "",
           "2019-03",
           "From <b>Mar-01-2019</b> to <b>Mar-31-2019</b>",
           2968.6698,
           85.502
          ],
          [
           "Values Avg for <b>transaction_amount</b>",
           "<b style=\"color:#3b0280;line-height:60px\">Analysis</b>",
           "",
           "2019-04",
           "From <b>Apr-01-2019</b> to <b>Apr-30-2019</b>",
           2923.6365,
           86.9139
          ],
          [
           "Values Avg for <b>transaction_amount</b>",
           "<b style=\"color:#3b0280;line-height:60px\">Analysis</b>",
           "",
           "2019-05",
           "From <b>May-01-2019</b> to <b>May-31-2019</b>",
           2996.9249,
           85.5103
          ],
          [
           "Values Avg for <b>transaction_amount</b>",
           "<b style=\"color:#3b0280;line-height:60px\">Analysis</b>",
           "<span style=\"color:#AD0000\">⚠ <b>Drift detected</b></span>",
           "2019-06",
           "From <b>Jun-01-2019</b> to <b>Jun-30-2019</b>",
           3069.8184,
           86.9139
          ]
         ],
         "hovertemplate": "%{customdata[1]} &nbsp; &nbsp; %{customdata[2]} <br />Chunk: <b>%{customdata[3]}</b> &nbsp; &nbsp; %{customdata[4]} <br />%{customdata[0]}: <b>%{customdata[5]}</b><br />Confidence band: +/- <b>%{customdata[6]}</b><br /><extra></extra>",
         "legendgroup": "metric_analysis",
         "marker": {
          "color": "#00c8e5",
          "size": 5,
          "symbol": "circle"
         },
         "mode": "markers",
         "name": "Metric",
         "showlegend": false,
         "type": "scatter",
         "x": [
          "2018-11-16T00:00:00",
          "2018-12-16T12:00:00",
          "2019-01-16T12:00:00",
          "2019-02-15T00:00:00",
          "2019-03-16T12:00:00",
          "2019-04-16T00:00:00",
          "2019-05-16T12:00:00",
          "2019-06-15T23:59:59.999999"
         ],
         "xaxis": "x",
         "y": [
          2994.880060544904,
          2979.1827700722797,
          2993.9794140625,
          3000.1461937716263,
          2968.66978515625,
          2923.6365287588296,
          2996.924907208439,
          3069.8183551967713,
          3069.8183551967713
         ],
         "yaxis": "y"
        },
        {
         "hoverinfo": "skip",
         "legendgroup": "alert",
         "marker": {
          "color": "#DD4040",
          "size": 8,
          "symbol": "diamond"
         },
         "mode": "markers",
         "name": "Alert",
         "showlegend": true,
         "type": "scatter",
         "x": [
          "2019-06-15T23:59:59.999999"
         ],
         "xaxis": "x",
         "y": [
          3069.8183551967713
         ],
         "yaxis": "y"
        },
        {
         "hoverinfo": "skip",
         "legendgroup": "thresh",
         "line": {
          "color": "#DD4040",
          "dash": "dash",
          "width": 2
         },
         "mode": "lines",
         "name": "Threshold",
         "showlegend": true,
         "type": "scatter",
         "x": [
          "2018-01-01T00:00:00",
          "2018-02-01T00:00:00",
          "2018-03-01T00:00:00",
          "2018-04-01T00:00:00",
          "2018-05-01T00:00:00",
          "2018-06-01T00:00:00",
          "2018-07-01T00:00:00",
          "2018-08-01T00:00:00",
          "2018-09-01T00:00:00",
          "2018-10-01T00:00:00",
          "2018-10-31T23:59:59.999999"
         ],
         "xaxis": "x",
         "y": [
          3021.411123303728,
          3021.411123303728,
          3021.411123303728,
          3021.411123303728,
          3021.411123303728,
          3021.411123303728,
          3021.411123303728,
          3021.411123303728,
          3021.411123303728,
          3021.411123303728,
          3021.411123303728
         ],
         "yaxis": "y"
        },
        {
         "hoverinfo": "skip",
         "legendgroup": "thresh",
         "line": {
          "color": "#DD4040",
          "dash": "dash",
          "width": 2
         },
         "mode": "lines",
         "name": "Threshold",
         "showlegend": false,
         "type": "scatter",
         "x": [
          "2018-01-01T00:00:00",
          "2018-02-01T00:00:00",
          "2018-03-01T00:00:00",
          "2018-04-01T00:00:00",
          "2018-05-01T00:00:00",
          "2018-06-01T00:00:00",
          "2018-07-01T00:00:00",
          "2018-08-01T00:00:00",
          "2018-09-01T00:00:00",
          "2018-10-01T00:00:00",
          "2018-10-31T23:59:59.999999"
         ],
         "xaxis": "x",
         "y": [
          2908.4340259731684,
          2908.4340259731684,
          2908.4340259731684,
          2908.4340259731684,
          2908.4340259731684,
          2908.4340259731684,
          2908.4340259731684,
          2908.4340259731684,
          2908.4340259731684,
          2908.4340259731684,
          2908.4340259731684
         ],
         "yaxis": "y"
        },
        {
         "hoverinfo": "skip",
         "legendgroup": "thresh",
         "line": {
          "color": "#DD4040",
          "dash": "dash",
          "width": 2
         },
         "mode": "lines",
         "name": "Threshold",
         "showlegend": false,
         "type": "scatter",
         "x": [
          "2018-11-01T00:00:00",
          "2018-12-01T00:00:00",
          "2019-01-01T00:00:00",
          "2019-02-01T00:00:00",
          "2019-03-01T00:00:00",
          "2019-04-01T00:00:00",
          "2019-05-01T00:00:00",
          "2019-06-01T00:00:00",
          "2019-06-30T23:59:59.999999"
         ],
         "xaxis": "x",
         "y": [
          3021.411123303728,
          3021.411123303728,
          3021.411123303728,
          3021.411123303728,
          3021.411123303728,
          3021.411123303728,
          3021.411123303728,
          3021.411123303728,
          3021.411123303728
         ],
         "yaxis": "y"
        },
        {
         "hoverinfo": "skip",
         "legendgroup": "thresh",
         "line": {
          "color": "#DD4040",
          "dash": "dash",
          "width": 2
         },
         "mode": "lines",
         "name": "Threshold",
         "showlegend": false,
         "type": "scatter",
         "x": [
          "2018-11-01T00:00:00",
          "2018-12-01T00:00:00",
          "2019-01-01T00:00:00",
          "2019-02-01T00:00:00",
          "2019-03-01T00:00:00",
          "2019-04-01T00:00:00",
          "2019-05-01T00:00:00",
          "2019-06-01T00:00:00",
          "2019-06-30T23:59:59.999999"
         ],
         "xaxis": "x",
         "y": [
          2908.4340259731684,
          2908.4340259731684,
          2908.4340259731684,
          2908.4340259731684,
          2908.4340259731684,
          2908.4340259731684,
          2908.4340259731684,
          2908.4340259731684,
          2908.4340259731684
         ],
         "yaxis": "y"
        },
        {
         "connectgaps": true,
         "hoverinfo": "skip",
         "line": {
          "color": "rgba(0,0,0,0)",
          "shape": "hv"
         },
         "mode": "lines",
         "name": "Confidence band",
         "showlegend": false,
         "type": "scatter",
         "x": [
          "2018-01-01T00:00:00",
          "2018-02-01T00:00:00",
          "2018-03-01T00:00:00",
          "2018-04-01T00:00:00",
          "2018-05-01T00:00:00",
          "2018-06-01T00:00:00",
          "2018-07-01T00:00:00",
          "2018-08-01T00:00:00",
          "2018-09-01T00:00:00",
          "2018-10-01T00:00:00",
          "2018-10-31T23:59:59.999999"
         ],
         "xaxis": "x",
         "y": [
          3053.6473823907713,
          3064.370130676713,
          3026.1537497102904,
          3043.505009019114,
          3027.8362691095213,
          3080.132531397325,
          3073.138417547021,
          3063.601269109521,
          3057.600940763494,
          3022.9807027032716,
          3022.9807027032716
         ],
         "yaxis": "y"
        },
        {
         "connectgaps": true,
         "fill": "tonexty",
         "fillcolor": "rgba(0.0, 0.7843137254901961, 0.8980392156862745, 0.2)",
         "hoverinfo": "skip",
         "line": {
          "color": "rgba(0,0,0,0)",
          "shape": "hv"
         },
         "mode": "lines",
         "name": "Confidence band",
         "showlegend": true,
         "type": "scatter",
         "x": [
          "2018-01-01T00:00:00",
          "2018-02-01T00:00:00",
          "2018-03-01T00:00:00",
          "2018-04-01T00:00:00",
          "2018-05-01T00:00:00",
          "2018-06-01T00:00:00",
          "2018-07-01T00:00:00",
          "2018-08-01T00:00:00",
          "2018-09-01T00:00:00",
          "2018-10-01T00:00:00",
          "2018-10-31T23:59:59.999999"
         ],
         "xaxis": "x",
         "y": [
          2882.6434379217285,
          2884.447728782747,
          2855.133103190666,
          2869.6771907790703,
          2856.8323246404784,
          2906.2871698541894,
          2902.1344730779783,
          2892.5973246404783,
          2883.7555792203584,
          2851.976758234229,
          2851.976758234229
         ],
         "yaxis": "y"
        },
        {
         "connectgaps": true,
         "hoverinfo": "skip",
         "line": {
          "color": "rgba(0,0,0,0)",
          "shape": "hv"
         },
         "mode": "lines",
         "name": "Confidence band",
         "showlegend": false,
         "type": "scatter",
         "x": [
          "2018-11-01T00:00:00",
          "2018-12-01T00:00:00",
          "2019-01-01T00:00:00",
          "2019-02-01T00:00:00",
          "2019-03-01T00:00:00",
          "2019-04-01T00:00:00",
          "2019-05-01T00:00:00",
          "2019-06-01T00:00:00",
          "2019-06-30T23:59:59.999999"
         ],
         "xaxis": "x",
         "y": [
          3081.793969664926,
          3064.693093332092,
          3079.4813862970213,
          3090.1171218312447,
          3054.1717573907713,
          3010.5504378788514,
          3082.435230468251,
          3156.732264316793,
          3156.732264316793
         ],
         "yaxis": "y"
        },
        {
         "connectgaps": true,
         "fill": "tonexty",
         "fillcolor": "rgba(0.0, 0.7843137254901961, 0.8980392156862745, 0.2)",
         "hoverinfo": "skip",
         "line": {
          "color": "rgba(0,0,0,0)",
          "shape": "hv"
         },
         "mode": "lines",
         "name": "Confidence band",
         "showlegend": false,
         "type": "scatter",
         "x": [
          "2018-11-01T00:00:00",
          "2018-12-01T00:00:00",
          "2019-01-01T00:00:00",
          "2019-02-01T00:00:00",
          "2019-03-01T00:00:00",
          "2019-04-01T00:00:00",
          "2019-05-01T00:00:00",
          "2019-06-01T00:00:00",
          "2019-06-30T23:59:59.999999"
         ],
         "xaxis": "x",
         "y": [
          2907.9661514248824,
          2893.6724468124676,
          2908.4774418279785,
          2910.175265712008,
          2883.1678129217285,
          2836.722619638808,
          2911.414583948627,
          2982.9044460767495,
          2982.9044460767495
         ],
         "yaxis": "y"
        }
       ],
       "layout": {
        "annotations": [
         {
          "font": {
           "size": 16
          },
          "showarrow": false,
          "text": "Values Avg for <b>transaction_amount</b>",
          "x": 0.5,
          "xanchor": "center",
          "xref": "paper",
          "y": 1,
          "yanchor": "bottom",
          "yref": "paper"
         },
         {
          "showarrow": false,
          "text": "Reference",
          "x": "2018-05-17T00:00:00",
          "xref": "x",
          "xshift": 10,
          "y": 1.01,
          "yref": "y domain"
         },
         {
          "showarrow": false,
          "text": "Analysis",
          "x": "2019-02-14T21:00:00",
          "xref": "x",
          "xshift": 15,
          "y": 1.01,
          "yref": "y domain"
         }
        ],
        "height": 500,
        "hoverlabel": {
         "bgcolor": "white",
         "font": {
          "size": 14
         }
        },
        "legend": {
         "itemclick": false,
         "itemdoubleclick": false,
         "traceorder": "grouped"
        },
        "paper_bgcolor": "rgba(255,255,255,1)",
        "plot_bgcolor": "rgba(255,255,255,1)",
        "shapes": [
         {
          "layer": "below",
          "line": {
           "color": "#666666",
           "width": 1
          },
          "type": "line",
          "x0": "2018-11-01T00:00:00",
          "x1": "2018-11-01T00:00:00",
          "xref": "x",
          "y0": 0,
          "y1": 1,
          "yref": "y domain"
         }
        ],
        "template": {
         "data": {
          "bar": [
           {
            "error_x": {
             "color": "#2a3f5f"
            },
            "error_y": {
             "color": "#2a3f5f"
            },
            "marker": {
             "line": {
              "color": "white",
              "width": 0.5
             },
             "pattern": {
              "fillmode": "overlay",
              "size": 10,
              "solidity": 0.2
             }
            },
            "type": "bar"
           }
          ],
          "barpolar": [
           {
            "marker": {
             "line": {
              "color": "white",
              "width": 0.5
             },
             "pattern": {
              "fillmode": "overlay",
              "size": 10,
              "solidity": 0.2
             }
            },
            "type": "barpolar"
           }
          ],
          "carpet": [
           {
            "aaxis": {
             "endlinecolor": "#2a3f5f",
             "gridcolor": "#C8D4E3",
             "linecolor": "#C8D4E3",
             "minorgridcolor": "#C8D4E3",
             "startlinecolor": "#2a3f5f"
            },
            "baxis": {
             "endlinecolor": "#2a3f5f",
             "gridcolor": "#C8D4E3",
             "linecolor": "#C8D4E3",
             "minorgridcolor": "#C8D4E3",
             "startlinecolor": "#2a3f5f"
            },
            "type": "carpet"
           }
          ],
          "choropleth": [
           {
            "colorbar": {
             "outlinewidth": 0,
             "ticks": ""
            },
            "type": "choropleth"
           }
          ],
          "contour": [
           {
            "colorbar": {
             "outlinewidth": 0,
             "ticks": ""
            },
            "colorscale": [
             [
              0,
              "#0d0887"
             ],
             [
              0.1111111111111111,
              "#46039f"
             ],
             [
              0.2222222222222222,
              "#7201a8"
             ],
             [
              0.3333333333333333,
              "#9c179e"
             ],
             [
              0.4444444444444444,
              "#bd3786"
             ],
             [
              0.5555555555555556,
              "#d8576b"
             ],
             [
              0.6666666666666666,
              "#ed7953"
             ],
             [
              0.7777777777777778,
              "#fb9f3a"
             ],
             [
              0.8888888888888888,
              "#fdca26"
             ],
             [
              1,
              "#f0f921"
             ]
            ],
            "type": "contour"
           }
          ],
          "contourcarpet": [
           {
            "colorbar": {
             "outlinewidth": 0,
             "ticks": ""
            },
            "type": "contourcarpet"
           }
          ],
          "heatmap": [
           {
            "colorbar": {
             "outlinewidth": 0,
             "ticks": ""
            },
            "colorscale": [
             [
              0,
              "#0d0887"
             ],
             [
              0.1111111111111111,
              "#46039f"
             ],
             [
              0.2222222222222222,
              "#7201a8"
             ],
             [
              0.3333333333333333,
              "#9c179e"
             ],
             [
              0.4444444444444444,
              "#bd3786"
             ],
             [
              0.5555555555555556,
              "#d8576b"
             ],
             [
              0.6666666666666666,
              "#ed7953"
             ],
             [
              0.7777777777777778,
              "#fb9f3a"
             ],
             [
              0.8888888888888888,
              "#fdca26"
             ],
             [
              1,
              "#f0f921"
             ]
            ],
            "type": "heatmap"
           }
          ],
          "heatmapgl": [
           {
            "colorbar": {
             "outlinewidth": 0,
             "ticks": ""
            },
            "colorscale": [
             [
              0,
              "#0d0887"
             ],
             [
              0.1111111111111111,
              "#46039f"
             ],
             [
              0.2222222222222222,
              "#7201a8"
             ],
             [
              0.3333333333333333,
              "#9c179e"
             ],
             [
              0.4444444444444444,
              "#bd3786"
             ],
             [
              0.5555555555555556,
              "#d8576b"
             ],
             [
              0.6666666666666666,
              "#ed7953"
             ],
             [
              0.7777777777777778,
              "#fb9f3a"
             ],
             [
              0.8888888888888888,
              "#fdca26"
             ],
             [
              1,
              "#f0f921"
             ]
            ],
            "type": "heatmapgl"
           }
          ],
          "histogram": [
           {
            "marker": {
             "pattern": {
              "fillmode": "overlay",
              "size": 10,
              "solidity": 0.2
             }
            },
            "type": "histogram"
           }
          ],
          "histogram2d": [
           {
            "colorbar": {
             "outlinewidth": 0,
             "ticks": ""
            },
            "colorscale": [
             [
              0,
              "#0d0887"
             ],
             [
              0.1111111111111111,
              "#46039f"
             ],
             [
              0.2222222222222222,
              "#7201a8"
             ],
             [
              0.3333333333333333,
              "#9c179e"
             ],
             [
              0.4444444444444444,
              "#bd3786"
             ],
             [
              0.5555555555555556,
              "#d8576b"
             ],
             [
              0.6666666666666666,
              "#ed7953"
             ],
             [
              0.7777777777777778,
              "#fb9f3a"
             ],
             [
              0.8888888888888888,
              "#fdca26"
             ],
             [
              1,
              "#f0f921"
             ]
            ],
            "type": "histogram2d"
           }
          ],
          "histogram2dcontour": [
           {
            "colorbar": {
             "outlinewidth": 0,
             "ticks": ""
            },
            "colorscale": [
             [
              0,
              "#0d0887"
             ],
             [
              0.1111111111111111,
              "#46039f"
             ],
             [
              0.2222222222222222,
              "#7201a8"
             ],
             [
              0.3333333333333333,
              "#9c179e"
             ],
             [
              0.4444444444444444,
              "#bd3786"
             ],
             [
              0.5555555555555556,
              "#d8576b"
             ],
             [
              0.6666666666666666,
              "#ed7953"
             ],
             [
              0.7777777777777778,
              "#fb9f3a"
             ],
             [
              0.8888888888888888,
              "#fdca26"
             ],
             [
              1,
              "#f0f921"
             ]
            ],
            "type": "histogram2dcontour"
           }
          ],
          "mesh3d": [
           {
            "colorbar": {
             "outlinewidth": 0,
             "ticks": ""
            },
            "type": "mesh3d"
           }
          ],
          "parcoords": [
           {
            "line": {
             "colorbar": {
              "outlinewidth": 0,
              "ticks": ""
             }
            },
            "type": "parcoords"
           }
          ],
          "pie": [
           {
            "automargin": true,
            "type": "pie"
           }
          ],
          "scatter": [
           {
            "fillpattern": {
             "fillmode": "overlay",
             "size": 10,
             "solidity": 0.2
            },
            "type": "scatter"
           }
          ],
          "scatter3d": [
           {
            "line": {
             "colorbar": {
              "outlinewidth": 0,
              "ticks": ""
             }
            },
            "marker": {
             "colorbar": {
              "outlinewidth": 0,
              "ticks": ""
             }
            },
            "type": "scatter3d"
           }
          ],
          "scattercarpet": [
           {
            "marker": {
             "colorbar": {
              "outlinewidth": 0,
              "ticks": ""
             }
            },
            "type": "scattercarpet"
           }
          ],
          "scattergeo": [
           {
            "marker": {
             "colorbar": {
              "outlinewidth": 0,
              "ticks": ""
             }
            },
            "type": "scattergeo"
           }
          ],
          "scattergl": [
           {
            "marker": {
             "colorbar": {
              "outlinewidth": 0,
              "ticks": ""
             }
            },
            "type": "scattergl"
           }
          ],
          "scattermapbox": [
           {
            "marker": {
             "colorbar": {
              "outlinewidth": 0,
              "ticks": ""
             }
            },
            "type": "scattermapbox"
           }
          ],
          "scatterpolar": [
           {
            "marker": {
             "colorbar": {
              "outlinewidth": 0,
              "ticks": ""
             }
            },
            "type": "scatterpolar"
           }
          ],
          "scatterpolargl": [
           {
            "marker": {
             "colorbar": {
              "outlinewidth": 0,
              "ticks": ""
             }
            },
            "type": "scatterpolargl"
           }
          ],
          "scatterternary": [
           {
            "marker": {
             "colorbar": {
              "outlinewidth": 0,
              "ticks": ""
             }
            },
            "type": "scatterternary"
           }
          ],
          "surface": [
           {
            "colorbar": {
             "outlinewidth": 0,
             "ticks": ""
            },
            "colorscale": [
             [
              0,
              "#0d0887"
             ],
             [
              0.1111111111111111,
              "#46039f"
             ],
             [
              0.2222222222222222,
              "#7201a8"
             ],
             [
              0.3333333333333333,
              "#9c179e"
             ],
             [
              0.4444444444444444,
              "#bd3786"
             ],
             [
              0.5555555555555556,
              "#d8576b"
             ],
             [
              0.6666666666666666,
              "#ed7953"
             ],
             [
              0.7777777777777778,
              "#fb9f3a"
             ],
             [
              0.8888888888888888,
              "#fdca26"
             ],
             [
              1,
              "#f0f921"
             ]
            ],
            "type": "surface"
           }
          ],
          "table": [
           {
            "cells": {
             "fill": {
              "color": "#EBF0F8"
             },
             "line": {
              "color": "white"
             }
            },
            "header": {
             "fill": {
              "color": "#C8D4E3"
             },
             "line": {
              "color": "white"
             }
            },
            "type": "table"
           }
          ]
         },
         "layout": {
          "annotationdefaults": {
           "arrowcolor": "#2a3f5f",
           "arrowhead": 0,
           "arrowwidth": 1
          },
          "autotypenumbers": "strict",
          "coloraxis": {
           "colorbar": {
            "outlinewidth": 0,
            "ticks": ""
           }
          },
          "colorscale": {
           "diverging": [
            [
             0,
             "#8e0152"
            ],
            [
             0.1,
             "#c51b7d"
            ],
            [
             0.2,
             "#de77ae"
            ],
            [
             0.3,
             "#f1b6da"
            ],
            [
             0.4,
             "#fde0ef"
            ],
            [
             0.5,
             "#f7f7f7"
            ],
            [
             0.6,
             "#e6f5d0"
            ],
            [
             0.7,
             "#b8e186"
            ],
            [
             0.8,
             "#7fbc41"
            ],
            [
             0.9,
             "#4d9221"
            ],
            [
             1,
             "#276419"
            ]
           ],
           "sequential": [
            [
             0,
             "#0d0887"
            ],
            [
             0.1111111111111111,
             "#46039f"
            ],
            [
             0.2222222222222222,
             "#7201a8"
            ],
            [
             0.3333333333333333,
             "#9c179e"
            ],
            [
             0.4444444444444444,
             "#bd3786"
            ],
            [
             0.5555555555555556,
             "#d8576b"
            ],
            [
             0.6666666666666666,
             "#ed7953"
            ],
            [
             0.7777777777777778,
             "#fb9f3a"
            ],
            [
             0.8888888888888888,
             "#fdca26"
            ],
            [
             1,
             "#f0f921"
            ]
           ],
           "sequentialminus": [
            [
             0,
             "#0d0887"
            ],
            [
             0.1111111111111111,
             "#46039f"
            ],
            [
             0.2222222222222222,
             "#7201a8"
            ],
            [
             0.3333333333333333,
             "#9c179e"
            ],
            [
             0.4444444444444444,
             "#bd3786"
            ],
            [
             0.5555555555555556,
             "#d8576b"
            ],
            [
             0.6666666666666666,
             "#ed7953"
            ],
            [
             0.7777777777777778,
             "#fb9f3a"
            ],
            [
             0.8888888888888888,
             "#fdca26"
            ],
            [
             1,
             "#f0f921"
            ]
           ]
          },
          "colorway": [
           "#6568a0",
           "#43d7a4",
           "#4095db",
           "#facc5f",
           "#cae279",
           "#7db64f",
           "#f08083",
           "#5bcdf2",
           "#f099dc",
           "#965858"
          ],
          "font": {
           "color": "#05192D",
           "family": "Studio-Feixen-Sans, Arial, sans-serif"
          },
          "geo": {
           "bgcolor": "white",
           "lakecolor": "white",
           "landcolor": "white",
           "showlakes": true,
           "showland": true,
           "subunitcolor": "#C8D4E3"
          },
          "hoverlabel": {
           "align": "left",
           "font": {
            "family": "Studio-Feixen-Sans, Arial, sans-serif"
           }
          },
          "hovermode": "closest",
          "mapbox": {
           "style": "light"
          },
          "paper_bgcolor": "white",
          "plot_bgcolor": "white",
          "polar": {
           "angularaxis": {
            "gridcolor": "#EBF0F8",
            "linecolor": "#EBF0F8",
            "ticks": ""
           },
           "bgcolor": "white",
           "radialaxis": {
            "gridcolor": "#EBF0F8",
            "linecolor": "#EBF0F8",
            "ticks": ""
           }
          },
          "scene": {
           "xaxis": {
            "backgroundcolor": "white",
            "gridcolor": "#DFE8F3",
            "gridwidth": 2,
            "linecolor": "#EBF0F8",
            "showbackground": true,
            "ticks": "",
            "zerolinecolor": "#EBF0F8"
           },
           "yaxis": {
            "backgroundcolor": "white",
            "gridcolor": "#DFE8F3",
            "gridwidth": 2,
            "linecolor": "#EBF0F8",
            "showbackground": true,
            "ticks": "",
            "zerolinecolor": "#EBF0F8"
           },
           "zaxis": {
            "backgroundcolor": "white",
            "gridcolor": "#DFE8F3",
            "gridwidth": 2,
            "linecolor": "#EBF0F8",
            "showbackground": true,
            "ticks": "",
            "zerolinecolor": "#EBF0F8"
           }
          },
          "shapedefaults": {
           "line": {
            "color": "#2a3f5f"
           }
          },
          "ternary": {
           "aaxis": {
            "gridcolor": "#DFE8F3",
            "linecolor": "#A2B1C6",
            "ticks": ""
           },
           "baxis": {
            "gridcolor": "#DFE8F3",
            "linecolor": "#A2B1C6",
            "ticks": ""
           },
           "bgcolor": "white",
           "caxis": {
            "gridcolor": "#DFE8F3",
            "linecolor": "#A2B1C6",
            "ticks": ""
           }
          },
          "title": {
           "x": 0.05
          },
          "xaxis": {
           "automargin": true,
           "gridcolor": "#EBF0F8",
           "linecolor": "#EBF0F8",
           "ticks": "",
           "title": {
            "standoff": 15
           },
           "zerolinecolor": "#EBF0F8",
           "zerolinewidth": 2
          },
          "yaxis": {
           "automargin": true,
           "gridcolor": "#EBF0F8",
           "linecolor": "#EBF0F8",
           "ticks": "",
           "title": {
            "standoff": 15
           },
           "zerolinecolor": "#EBF0F8",
           "zerolinewidth": 2
          }
         }
        },
        "title": {
         "text": "Averaged Values "
        },
        "xaxis": {
         "anchor": "y",
         "domain": [
          0,
          1
         ],
         "linecolor": "#3b0280",
         "matches": "x",
         "mirror": true,
         "showgrid": false,
         "title": {
          "text": "Time"
         },
         "zeroline": false
        },
        "yaxis": {
         "anchor": "x",
         "domain": [
          0,
          1
         ],
         "linecolor": "#3b0280",
         "mirror": true,
         "showgrid": false,
         "title": {
          "text": "Values Avg"
         },
         "zeroline": false
        }
       }
      }
     },
     "metadata": {},
     "output_type": "display_data"
    },
    {
     "name": "stdout",
     "output_type": "stream",
     "text": [
      "alert_avg_transaction_amount: 3069.8184\n"
     ]
    }
   ],
   "source": [
    "## Identifing the months when both the estimated and realized ROC AUC of the model have alerts. Store the names of these months as lowercase strings in a list named months_with_performance_alerts. \n",
    "\n",
    "# Get the estimated performance using CBPE algorithm\n",
    "cbpe = nml.CBPE(\n",
    "    timestamp_column_name=\"timestamp\",\n",
    "    y_true=\"is_fraud\",\n",
    "    y_pred=\"predicted_fraud\",\n",
    "    y_pred_proba=\"predicted_fraud_proba\",\n",
    "    problem_type=\"classification_binary\",\n",
    "    metrics=[\"accuracy\"],\n",
    "    chunk_period=\"m\"\n",
    ")\n",
    "\n",
    "cbpe.fit(reference)\n",
    "est_results = cbpe.estimate(analysis)\n",
    "\n",
    "# Calculate the realized performance\n",
    "calculator = nml.PerformanceCalculator(\n",
    "    y_true=\"is_fraud\",\n",
    "    y_pred=\"predicted_fraud\",\n",
    "    y_pred_proba=\"predicted_fraud_proba\",\n",
    "    timestamp_column_name=\"timestamp\",\n",
    "    metrics=[\"accuracy\"],\n",
    "    chunk_period=\"m\",\n",
    "    problem_type=\"classification_binary\",\n",
    ")\n",
    "calculator = calculator.fit(reference)\n",
    "calc_results = calculator.calculate(analysis)\n",
    "\n",
    "# Compare the results and find the months with alerts\n",
    "est_results.compare(calc_results).plot().show()\n",
    "months_with_performance_alerts = [\"april_2019\", \"may_2019\", \"june_2019\"]\n",
    "print(\"months_with_performance_alerts:\", months_with_performance_alerts)\n",
    "\n",
    "## Determining which alerting feature has the strongest correlation with the model’s realized performance. Store the name of this feature in a variable named highest_correlation_feature. \n",
    "\n",
    "features = [\"time_since_login_min\", \"transaction_amount\",\n",
    "            \"transaction_type\", \"is_first_transaction\", \n",
    "            \"user_tenure_months\"]\n",
    "\n",
    "# Calculate the univariate drift results\n",
    "udc = nml.UnivariateDriftCalculator(\n",
    "    timestamp_column_name=\"timestamp\",\n",
    "    column_names=features,\n",
    "    chunk_period=\"m\",\n",
    "    continuous_methods=[\"kolmogorov_smirnov\"],\n",
    "    categorical_methods=[\"chi2\"]\n",
    ")\n",
    "\n",
    "udc.fit(reference)\n",
    "udc_results = udc.calculate(analysis)\n",
    "\n",
    "# Use the correlation ranker\n",
    "ranker = nml.CorrelationRanker()\n",
    "ranker.fit(\n",
    "    calc_results.filter(period=\"reference\"))\n",
    "\n",
    "correlation_ranked_features = ranker.rank(udc_results, calc_results)\n",
    "\n",
    "# Find the highest correlating feature\n",
    "display(correlation_ranked_features)\n",
    "highest_correlation_feature = \"time_since_login_min\"\n",
    "print(\"highest_correlation_feature:\", highest_correlation_feature)\n",
    "\n",
    "## Use the summary average statistics calculator to find out what were the monthly average transactions amounts, and if there's any alert. Record this value in a variable called alert_avg_transaction_amount.\n",
    "\n",
    "# Calculate average monthly transactions\n",
    "calc = nml.SummaryStatsAvgCalculator(\n",
    "    column_names=[\"transaction_amount\"],\n",
    "    chunk_period=\"m\",\n",
    "    timestamp_column_name=\"timestamp\",\n",
    ")\n",
    "\n",
    "calc.fit(reference)\n",
    "stats_avg_results = calc.calculate(analysis)\n",
    "\n",
    "# Find the month\n",
    "stats_avg_results.plot().show()\n",
    "alert_avg_transaction_amount = 3069.8184\n",
    "print(\"alert_avg_transaction_amount:\", alert_avg_transaction_amount)"
   ]
  },
  {
   "cell_type": "markdown",
   "id": "10398ff9-5496-4eeb-a81d-abe5f59cd8d9",
   "metadata": {
    "executionCancelledAt": null,
    "executionTime": 52,
    "lastExecutedAt": 1724823698265,
    "lastExecutedByKernel": "31a771c1-87f6-45ad-be7f-e9f0da76f34d",
    "lastScheduledRunId": null,
    "lastSuccessfullyExecutedCode": "## Answer to the bonus question\n\"\"\"\nFirst, I recommend looking at the distribution plots for all features and analyzing them using this command: \n- `univariate_data_drift.filter(column_names=features).plot(kind=\"distribution\")`\n\nObservations:\n\n- time_since_log_min - From April to June, the transactions made within one minute after logging in completely vanished.\n- transaction_amount - In May and June, a larger number of transactions appeared. Additionally, as you discovered in the third question, the average transaction value has increased and raised an alert.\n\nPossible explanation: \n\nFraudsters may have noticed that early card transactions, when done right after logging in, often led to account blocking. As a result, they began waiting a bit longer before transferring money to their account to avoid detection. Furthermore, they tend to make a single larger transfer instead of many smaller ones, leading to an increase in the average transaction value.\n\"\"\""
   },
   "source": [
    "# Answer to the bonus question\n",
    "\n",
    "First, I recommend looking at the distribution plots for all features and analyzing them using this command: \n",
    "- `univariate_data_drift.filter(column_names=features).plot(kind=\"distribution\")`\n",
    "\n",
    "***Observations:***\n",
    "\n",
    "- `time_since_log_min` - From April to June, the transactions made within one minute after logging in completely vanished.\n",
    "- `transaction_amount` - In May and June, a larger number of transactions appeared. Additionally, as you discovered in the third question, the average transaction value has increased and raised an alert.\n",
    "\n",
    "****Possible explanation:*** \n",
    "\n",
    "Fraudsters may have noticed that early card transactions, when done right after logging in, often led to account blocking. As a result, they began waiting a bit longer before transferring money to their account to avoid detection. Furthermore, they tend to make a single larger transfer instead of many smaller ones, leading to an increase in the average transaction value."
   ]
  }
 ],
 "metadata": {
  "editor": "DataCamp Workspace",
  "kernelspec": {
   "display_name": "Python 3 (ipykernel)",
   "language": "python",
   "name": "python3"
  },
  "language_info": {
   "codemirror_mode": {
    "name": "ipython",
    "version": 3
   },
   "file_extension": ".py",
   "mimetype": "text/x-python",
   "name": "python",
   "nbconvert_exporter": "python",
   "pygments_lexer": "ipython3",
   "version": "3.12.5"
  }
 },
 "nbformat": 4,
 "nbformat_minor": 5
}
